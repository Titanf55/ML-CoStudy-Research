{
 "cells": [
  {
   "cell_type": "code",
   "execution_count": 1,
   "id": "118bd4ee",
   "metadata": {},
   "outputs": [],
   "source": [
    "import pandas as pd\n",
    "import matplotlib\n",
    "import matplotlib.pyplot as plt\n",
    "import seaborn as sns\n",
    "import plotly.express as px\n",
    "import numpy as np"
   ]
  },
  {
   "cell_type": "code",
   "execution_count": 2,
   "id": "4cad82ae",
   "metadata": {},
   "outputs": [],
   "source": [
    "import warnings\n",
    "warnings.filterwarnings(\"ignore\", category=FutureWarning)"
   ]
  },
  {
   "cell_type": "code",
   "execution_count": 3,
   "id": "0643b51c",
   "metadata": {},
   "outputs": [],
   "source": [
    "# Setting the style and size of graphs\n",
    "sns.set_style('darkgrid')\n",
    "matplotlib.rcParams['font.size'] = 12\n",
    "matplotlib.rcParams['figure.figsize'] = (10, 6)\n",
    "matplotlib.rcParams['figure.facecolor'] = '#00000000'"
   ]
  },
  {
   "cell_type": "code",
   "execution_count": 4,
   "id": "12f146c2",
   "metadata": {},
   "outputs": [],
   "source": [
    "pd.set_option('display.max_columns', None)"
   ]
  },
  {
   "cell_type": "code",
   "execution_count": 5,
   "id": "7eb5dc5e",
   "metadata": {},
   "outputs": [],
   "source": [
    "df1=pd.read_csv(r\"delhi 2014-01-01 to 2016-04-30 (1).csv\")\n",
    "df2=pd.read_csv(r\"delhi 2016-05-01 to 2018-12-31 (1).csv\")\n",
    "df3=pd.read_csv(r\"delhi 2019-01-01 to 2021-04-30.csv\")\n",
    "df4=pd.read_csv(r\"delhi 2021-05-01 to 2023-12-31.csv\")"
   ]
  },
  {
   "cell_type": "code",
   "execution_count": 6,
   "id": "94bfd8c7",
   "metadata": {},
   "outputs": [],
   "source": [
    "df=pd.concat([df1,df2,df3,df4])"
   ]
  },
  {
   "cell_type": "code",
   "execution_count": 7,
   "id": "647a5dc8",
   "metadata": {},
   "outputs": [
    {
     "data": {
      "text/html": [
       "<div>\n",
       "<style scoped>\n",
       "    .dataframe tbody tr th:only-of-type {\n",
       "        vertical-align: middle;\n",
       "    }\n",
       "\n",
       "    .dataframe tbody tr th {\n",
       "        vertical-align: top;\n",
       "    }\n",
       "\n",
       "    .dataframe thead th {\n",
       "        text-align: right;\n",
       "    }\n",
       "</style>\n",
       "<table border=\"1\" class=\"dataframe\">\n",
       "  <thead>\n",
       "    <tr style=\"text-align: right;\">\n",
       "      <th></th>\n",
       "      <th>datetime</th>\n",
       "      <th>tempmax</th>\n",
       "      <th>tempmin</th>\n",
       "      <th>temp</th>\n",
       "      <th>dew</th>\n",
       "      <th>humidity</th>\n",
       "      <th>precip</th>\n",
       "      <th>windgust</th>\n",
       "      <th>windspeed</th>\n",
       "      <th>windspeedmax</th>\n",
       "      <th>windspeedmean</th>\n",
       "      <th>winddir</th>\n",
       "      <th>sealevelpressure</th>\n",
       "      <th>cloudcover</th>\n",
       "      <th>visibility</th>\n",
       "      <th>solarradiation</th>\n",
       "      <th>solarenergy</th>\n",
       "      <th>uvindex</th>\n",
       "      <th>moonphase</th>\n",
       "      <th>conditions</th>\n",
       "    </tr>\n",
       "  </thead>\n",
       "  <tbody>\n",
       "    <tr>\n",
       "      <th>0</th>\n",
       "      <td>2014-01-01</td>\n",
       "      <td>17.6</td>\n",
       "      <td>8.4</td>\n",
       "      <td>12.9</td>\n",
       "      <td>10.9</td>\n",
       "      <td>88.4</td>\n",
       "      <td>0.0</td>\n",
       "      <td>NaN</td>\n",
       "      <td>13.7</td>\n",
       "      <td>13.7</td>\n",
       "      <td>8.0</td>\n",
       "      <td>286.0</td>\n",
       "      <td>1020.6</td>\n",
       "      <td>52.8</td>\n",
       "      <td>1.0</td>\n",
       "      <td>153.2</td>\n",
       "      <td>13.3</td>\n",
       "      <td>6</td>\n",
       "      <td>0.00</td>\n",
       "      <td>Partially cloudy</td>\n",
       "    </tr>\n",
       "    <tr>\n",
       "      <th>1</th>\n",
       "      <td>2014-01-02</td>\n",
       "      <td>17.7</td>\n",
       "      <td>4.0</td>\n",
       "      <td>10.2</td>\n",
       "      <td>6.2</td>\n",
       "      <td>80.4</td>\n",
       "      <td>0.0</td>\n",
       "      <td>NaN</td>\n",
       "      <td>18.4</td>\n",
       "      <td>18.4</td>\n",
       "      <td>10.0</td>\n",
       "      <td>269.0</td>\n",
       "      <td>1019.7</td>\n",
       "      <td>16.4</td>\n",
       "      <td>1.3</td>\n",
       "      <td>166.7</td>\n",
       "      <td>14.5</td>\n",
       "      <td>6</td>\n",
       "      <td>0.03</td>\n",
       "      <td>Clear</td>\n",
       "    </tr>\n",
       "    <tr>\n",
       "      <th>2</th>\n",
       "      <td>2014-01-03</td>\n",
       "      <td>19.0</td>\n",
       "      <td>4.0</td>\n",
       "      <td>11.1</td>\n",
       "      <td>5.3</td>\n",
       "      <td>71.2</td>\n",
       "      <td>0.0</td>\n",
       "      <td>NaN</td>\n",
       "      <td>14.8</td>\n",
       "      <td>14.8</td>\n",
       "      <td>6.7</td>\n",
       "      <td>270.0</td>\n",
       "      <td>1017.8</td>\n",
       "      <td>8.7</td>\n",
       "      <td>1.7</td>\n",
       "      <td>168.6</td>\n",
       "      <td>14.5</td>\n",
       "      <td>6</td>\n",
       "      <td>0.06</td>\n",
       "      <td>Clear</td>\n",
       "    </tr>\n",
       "    <tr>\n",
       "      <th>3</th>\n",
       "      <td>2014-01-04</td>\n",
       "      <td>19.0</td>\n",
       "      <td>8.5</td>\n",
       "      <td>13.3</td>\n",
       "      <td>9.6</td>\n",
       "      <td>80.3</td>\n",
       "      <td>0.0</td>\n",
       "      <td>NaN</td>\n",
       "      <td>14.8</td>\n",
       "      <td>14.8</td>\n",
       "      <td>4.1</td>\n",
       "      <td>92.2</td>\n",
       "      <td>1015.9</td>\n",
       "      <td>44.1</td>\n",
       "      <td>0.9</td>\n",
       "      <td>116.4</td>\n",
       "      <td>10.0</td>\n",
       "      <td>5</td>\n",
       "      <td>0.10</td>\n",
       "      <td>Partially cloudy</td>\n",
       "    </tr>\n",
       "    <tr>\n",
       "      <th>4</th>\n",
       "      <td>2014-01-05</td>\n",
       "      <td>17.9</td>\n",
       "      <td>8.0</td>\n",
       "      <td>12.0</td>\n",
       "      <td>10.9</td>\n",
       "      <td>93.3</td>\n",
       "      <td>0.0</td>\n",
       "      <td>NaN</td>\n",
       "      <td>10.4</td>\n",
       "      <td>10.4</td>\n",
       "      <td>2.8</td>\n",
       "      <td>266.7</td>\n",
       "      <td>1014.3</td>\n",
       "      <td>40.6</td>\n",
       "      <td>0.3</td>\n",
       "      <td>149.3</td>\n",
       "      <td>12.9</td>\n",
       "      <td>6</td>\n",
       "      <td>0.13</td>\n",
       "      <td>Partially cloudy</td>\n",
       "    </tr>\n",
       "    <tr>\n",
       "      <th>...</th>\n",
       "      <td>...</td>\n",
       "      <td>...</td>\n",
       "      <td>...</td>\n",
       "      <td>...</td>\n",
       "      <td>...</td>\n",
       "      <td>...</td>\n",
       "      <td>...</td>\n",
       "      <td>...</td>\n",
       "      <td>...</td>\n",
       "      <td>...</td>\n",
       "      <td>...</td>\n",
       "      <td>...</td>\n",
       "      <td>...</td>\n",
       "      <td>...</td>\n",
       "      <td>...</td>\n",
       "      <td>...</td>\n",
       "      <td>...</td>\n",
       "      <td>...</td>\n",
       "      <td>...</td>\n",
       "      <td>...</td>\n",
       "    </tr>\n",
       "    <tr>\n",
       "      <th>970</th>\n",
       "      <td>2023-12-27</td>\n",
       "      <td>19.5</td>\n",
       "      <td>10.3</td>\n",
       "      <td>13.0</td>\n",
       "      <td>11.6</td>\n",
       "      <td>91.9</td>\n",
       "      <td>0.0</td>\n",
       "      <td>11.2</td>\n",
       "      <td>9.4</td>\n",
       "      <td>9.4</td>\n",
       "      <td>4.3</td>\n",
       "      <td>255.4</td>\n",
       "      <td>1020.5</td>\n",
       "      <td>59.6</td>\n",
       "      <td>0.5</td>\n",
       "      <td>145.0</td>\n",
       "      <td>12.6</td>\n",
       "      <td>6</td>\n",
       "      <td>0.50</td>\n",
       "      <td>Partially cloudy</td>\n",
       "    </tr>\n",
       "    <tr>\n",
       "      <th>971</th>\n",
       "      <td>2023-12-28</td>\n",
       "      <td>19.5</td>\n",
       "      <td>9.3</td>\n",
       "      <td>12.8</td>\n",
       "      <td>11.3</td>\n",
       "      <td>91.1</td>\n",
       "      <td>0.0</td>\n",
       "      <td>12.2</td>\n",
       "      <td>9.4</td>\n",
       "      <td>9.4</td>\n",
       "      <td>5.7</td>\n",
       "      <td>258.5</td>\n",
       "      <td>1019.4</td>\n",
       "      <td>52.3</td>\n",
       "      <td>0.5</td>\n",
       "      <td>146.8</td>\n",
       "      <td>12.8</td>\n",
       "      <td>6</td>\n",
       "      <td>0.54</td>\n",
       "      <td>Partially cloudy</td>\n",
       "    </tr>\n",
       "    <tr>\n",
       "      <th>972</th>\n",
       "      <td>2023-12-29</td>\n",
       "      <td>18.6</td>\n",
       "      <td>12.0</td>\n",
       "      <td>13.8</td>\n",
       "      <td>12.8</td>\n",
       "      <td>93.9</td>\n",
       "      <td>0.0</td>\n",
       "      <td>7.9</td>\n",
       "      <td>9.4</td>\n",
       "      <td>9.4</td>\n",
       "      <td>3.4</td>\n",
       "      <td>159.8</td>\n",
       "      <td>1020.0</td>\n",
       "      <td>56.7</td>\n",
       "      <td>0.5</td>\n",
       "      <td>144.0</td>\n",
       "      <td>12.5</td>\n",
       "      <td>6</td>\n",
       "      <td>0.57</td>\n",
       "      <td>Partially cloudy</td>\n",
       "    </tr>\n",
       "    <tr>\n",
       "      <th>973</th>\n",
       "      <td>2023-12-30</td>\n",
       "      <td>19.4</td>\n",
       "      <td>12.8</td>\n",
       "      <td>14.6</td>\n",
       "      <td>12.9</td>\n",
       "      <td>90.0</td>\n",
       "      <td>0.0</td>\n",
       "      <td>6.5</td>\n",
       "      <td>9.4</td>\n",
       "      <td>9.4</td>\n",
       "      <td>4.3</td>\n",
       "      <td>28.6</td>\n",
       "      <td>1018.7</td>\n",
       "      <td>39.7</td>\n",
       "      <td>0.9</td>\n",
       "      <td>113.7</td>\n",
       "      <td>9.8</td>\n",
       "      <td>5</td>\n",
       "      <td>0.60</td>\n",
       "      <td>Partially cloudy</td>\n",
       "    </tr>\n",
       "    <tr>\n",
       "      <th>974</th>\n",
       "      <td>2023-12-31</td>\n",
       "      <td>16.0</td>\n",
       "      <td>11.5</td>\n",
       "      <td>13.3</td>\n",
       "      <td>11.1</td>\n",
       "      <td>87.0</td>\n",
       "      <td>0.0</td>\n",
       "      <td>5.8</td>\n",
       "      <td>9.4</td>\n",
       "      <td>9.4</td>\n",
       "      <td>4.8</td>\n",
       "      <td>72.6</td>\n",
       "      <td>1018.8</td>\n",
       "      <td>39.2</td>\n",
       "      <td>1.0</td>\n",
       "      <td>146.9</td>\n",
       "      <td>12.8</td>\n",
       "      <td>6</td>\n",
       "      <td>0.64</td>\n",
       "      <td>Partially cloudy</td>\n",
       "    </tr>\n",
       "  </tbody>\n",
       "</table>\n",
       "<p>3652 rows × 20 columns</p>\n",
       "</div>"
      ],
      "text/plain": [
       "       datetime  tempmax  tempmin  temp   dew  humidity  precip  windgust  \\\n",
       "0    2014-01-01     17.6      8.4  12.9  10.9      88.4     0.0       NaN   \n",
       "1    2014-01-02     17.7      4.0  10.2   6.2      80.4     0.0       NaN   \n",
       "2    2014-01-03     19.0      4.0  11.1   5.3      71.2     0.0       NaN   \n",
       "3    2014-01-04     19.0      8.5  13.3   9.6      80.3     0.0       NaN   \n",
       "4    2014-01-05     17.9      8.0  12.0  10.9      93.3     0.0       NaN   \n",
       "..          ...      ...      ...   ...   ...       ...     ...       ...   \n",
       "970  2023-12-27     19.5     10.3  13.0  11.6      91.9     0.0      11.2   \n",
       "971  2023-12-28     19.5      9.3  12.8  11.3      91.1     0.0      12.2   \n",
       "972  2023-12-29     18.6     12.0  13.8  12.8      93.9     0.0       7.9   \n",
       "973  2023-12-30     19.4     12.8  14.6  12.9      90.0     0.0       6.5   \n",
       "974  2023-12-31     16.0     11.5  13.3  11.1      87.0     0.0       5.8   \n",
       "\n",
       "     windspeed  windspeedmax  windspeedmean  winddir  sealevelpressure  \\\n",
       "0         13.7          13.7            8.0    286.0            1020.6   \n",
       "1         18.4          18.4           10.0    269.0            1019.7   \n",
       "2         14.8          14.8            6.7    270.0            1017.8   \n",
       "3         14.8          14.8            4.1     92.2            1015.9   \n",
       "4         10.4          10.4            2.8    266.7            1014.3   \n",
       "..         ...           ...            ...      ...               ...   \n",
       "970        9.4           9.4            4.3    255.4            1020.5   \n",
       "971        9.4           9.4            5.7    258.5            1019.4   \n",
       "972        9.4           9.4            3.4    159.8            1020.0   \n",
       "973        9.4           9.4            4.3     28.6            1018.7   \n",
       "974        9.4           9.4            4.8     72.6            1018.8   \n",
       "\n",
       "     cloudcover  visibility  solarradiation  solarenergy  uvindex  moonphase  \\\n",
       "0          52.8         1.0           153.2         13.3        6       0.00   \n",
       "1          16.4         1.3           166.7         14.5        6       0.03   \n",
       "2           8.7         1.7           168.6         14.5        6       0.06   \n",
       "3          44.1         0.9           116.4         10.0        5       0.10   \n",
       "4          40.6         0.3           149.3         12.9        6       0.13   \n",
       "..          ...         ...             ...          ...      ...        ...   \n",
       "970        59.6         0.5           145.0         12.6        6       0.50   \n",
       "971        52.3         0.5           146.8         12.8        6       0.54   \n",
       "972        56.7         0.5           144.0         12.5        6       0.57   \n",
       "973        39.7         0.9           113.7          9.8        5       0.60   \n",
       "974        39.2         1.0           146.9         12.8        6       0.64   \n",
       "\n",
       "           conditions  \n",
       "0    Partially cloudy  \n",
       "1               Clear  \n",
       "2               Clear  \n",
       "3    Partially cloudy  \n",
       "4    Partially cloudy  \n",
       "..                ...  \n",
       "970  Partially cloudy  \n",
       "971  Partially cloudy  \n",
       "972  Partially cloudy  \n",
       "973  Partially cloudy  \n",
       "974  Partially cloudy  \n",
       "\n",
       "[3652 rows x 20 columns]"
      ]
     },
     "execution_count": 7,
     "metadata": {},
     "output_type": "execute_result"
    }
   ],
   "source": [
    "df"
   ]
  },
  {
   "cell_type": "code",
   "execution_count": 8,
   "id": "e1c83e15",
   "metadata": {},
   "outputs": [
    {
     "data": {
      "text/plain": [
       "datetime              0\n",
       "tempmax               0\n",
       "tempmin               0\n",
       "temp                  0\n",
       "dew                   0\n",
       "humidity              0\n",
       "precip                0\n",
       "windgust            272\n",
       "windspeed             0\n",
       "windspeedmax          0\n",
       "windspeedmean         0\n",
       "winddir               0\n",
       "sealevelpressure      0\n",
       "cloudcover            0\n",
       "visibility            0\n",
       "solarradiation        0\n",
       "solarenergy           0\n",
       "uvindex               0\n",
       "moonphase             0\n",
       "conditions            0\n",
       "dtype: int64"
      ]
     },
     "execution_count": 8,
     "metadata": {},
     "output_type": "execute_result"
    }
   ],
   "source": [
    "df.isnull().sum()"
   ]
  },
  {
   "cell_type": "code",
   "execution_count": 9,
   "id": "b3e576bd",
   "metadata": {},
   "outputs": [
    {
     "name": "stdout",
     "output_type": "stream",
     "text": [
      "<class 'pandas.core.frame.DataFrame'>\n",
      "Index: 3652 entries, 0 to 974\n",
      "Data columns (total 20 columns):\n",
      " #   Column            Non-Null Count  Dtype  \n",
      "---  ------            --------------  -----  \n",
      " 0   datetime          3652 non-null   object \n",
      " 1   tempmax           3652 non-null   float64\n",
      " 2   tempmin           3652 non-null   float64\n",
      " 3   temp              3652 non-null   float64\n",
      " 4   dew               3652 non-null   float64\n",
      " 5   humidity          3652 non-null   float64\n",
      " 6   precip            3652 non-null   float64\n",
      " 7   windgust          3380 non-null   float64\n",
      " 8   windspeed         3652 non-null   float64\n",
      " 9   windspeedmax      3652 non-null   float64\n",
      " 10  windspeedmean     3652 non-null   float64\n",
      " 11  winddir           3652 non-null   float64\n",
      " 12  sealevelpressure  3652 non-null   float64\n",
      " 13  cloudcover        3652 non-null   float64\n",
      " 14  visibility        3652 non-null   float64\n",
      " 15  solarradiation    3652 non-null   float64\n",
      " 16  solarenergy       3652 non-null   float64\n",
      " 17  uvindex           3652 non-null   int64  \n",
      " 18  moonphase         3652 non-null   float64\n",
      " 19  conditions        3652 non-null   object \n",
      "dtypes: float64(17), int64(1), object(2)\n",
      "memory usage: 599.2+ KB\n"
     ]
    }
   ],
   "source": [
    "df.info()"
   ]
  },
  {
   "cell_type": "code",
   "execution_count": 10,
   "id": "a1c707df",
   "metadata": {},
   "outputs": [],
   "source": [
    "df=df.drop(columns=[\"windspeedmax\",\"solarradiation\"])"
   ]
  },
  {
   "cell_type": "code",
   "execution_count": 11,
   "id": "72d32f68",
   "metadata": {},
   "outputs": [
    {
     "data": {
      "text/plain": [
       "<Axes: xlabel='conditions', ylabel='count'>"
      ]
     },
     "execution_count": 11,
     "metadata": {},
     "output_type": "execute_result"
    },
    {
     "data": {
      "image/png": "[encoded data removed]",
      "text/plain": [
       "<Figure size 1000x600 with 1 Axes>"
      ]
     },
     "metadata": {
      "needs_background": "light"
     },
     "output_type": "display_data"
    }
   ],
   "source": [
    "sns.countplot(x='conditions', data=df)"
   ]
  },
  {
   "cell_type": "code",
   "execution_count": 12,
   "id": "102af374",
   "metadata": {},
   "outputs": [
    {
     "data": {
      "text/plain": [
       "conditions\n",
       "Clear                     1427\n",
       "Partially cloudy          1400\n",
       "Rain, Partially cloudy     733\n",
       "Rain, Overcast              81\n",
       "Rain                        11\n",
       "Name: count, dtype: int64"
      ]
     },
     "execution_count": 12,
     "metadata": {},
     "output_type": "execute_result"
    }
   ],
   "source": [
    "df[\"conditions\"].value_counts()"
   ]
  },
  {
   "cell_type": "code",
   "execution_count": 13,
   "id": "12f9b67d",
   "metadata": {},
   "outputs": [],
   "source": [
    "df['conditions'] = df['conditions'].replace(\n",
    "    {'Rain, Partially cloudy':\"Rain\",\n",
    "     'Rain, Overcast': 'Rain',\n",
    "     'Rain': 'Rain',\n",
    "    \"Clear\":\"No rain\",\n",
    "    \"Partially cloudy\":\"No rain\"})\n"
   ]
  },
  {
   "cell_type": "code",
   "execution_count": 14,
   "id": "0b9c12d4",
   "metadata": {},
   "outputs": [
    {
     "data": {
      "text/plain": [
       "conditions\n",
       "No rain    2827\n",
       "Rain        825\n",
       "Name: count, dtype: int64"
      ]
     },
     "execution_count": 14,
     "metadata": {},
     "output_type": "execute_result"
    }
   ],
   "source": [
    "df[\"conditions\"].value_counts()"
   ]
  },
  {
   "cell_type": "code",
   "execution_count": 15,
   "id": "787d1e6a",
   "metadata": {},
   "outputs": [
    {
     "data": {
      "text/plain": [
       "<Axes: xlabel='conditions', ylabel='count'>"
      ]
     },
     "execution_count": 15,
     "metadata": {},
     "output_type": "execute_result"
    },
    {
     "data": {
      "image/png": "[encoded data removed]",
      "text/plain": [
       "<Figure size 1000x600 with 1 Axes>"
      ]
     },
     "metadata": {
      "needs_background": "light"
     },
     "output_type": "display_data"
    }
   ],
   "source": [
    "sns.countplot(x='conditions', data=df,palette=\"Blues\")"
   ]
  },
  {
   "cell_type": "code",
   "execution_count": 16,
   "id": "bb1bafb2",
   "metadata": {},
   "outputs": [
    {
     "data": {
      "image/png": "[encoded data removed]",
      "text/plain": [
       "<Figure size 1500x1000 with 2 Axes>"
      ]
     },
     "metadata": {
      "needs_background": "light"
     },
     "output_type": "display_data"
    }
   ],
   "source": [
    "plt.figure(figsize=(15,10))\n",
    "df_numeric = df.select_dtypes(include=[float, int])\n",
    "# Calculate the correlation matrix\n",
    "correlation_matrix = df_numeric.corr()\n",
    "correlation_matrix\n",
    "# Plotting the heatmap\n",
    "sns.heatmap(correlation_matrix,cmap=\"Reds\",annot=True,annot_kws={\"size\": 10})\n",
    "plt.show()"
   ]
  },
  {
   "cell_type": "code",
   "execution_count": 17,
   "id": "d5489e96",
   "metadata": {},
   "outputs": [],
   "source": [
    "df[\"datetime\"]=pd.to_datetime(df[\"datetime\"])"
   ]
  },
  {
   "cell_type": "code",
   "execution_count": 18,
   "id": "b924dae4",
   "metadata": {},
   "outputs": [],
   "source": [
    "df[\"year\"]=df[\"datetime\"].dt.year\n",
    "df['month'] = df['datetime'].dt.month_name()"
   ]
  },
  {
   "cell_type": "code",
   "execution_count": 19,
   "id": "fbca4e98",
   "metadata": {},
   "outputs": [
    {
     "name": "stdout",
     "output_type": "stream",
     "text": [
      "<class 'pandas.core.frame.DataFrame'>\n",
      "Index: 3652 entries, 0 to 974\n",
      "Data columns (total 20 columns):\n",
      " #   Column            Non-Null Count  Dtype         \n",
      "---  ------            --------------  -----         \n",
      " 0   datetime          3652 non-null   datetime64[ns]\n",
      " 1   tempmax           3652 non-null   float64       \n",
      " 2   tempmin           3652 non-null   float64       \n",
      " 3   temp              3652 non-null   float64       \n",
      " 4   dew               3652 non-null   float64       \n",
      " 5   humidity          3652 non-null   float64       \n",
      " 6   precip            3652 non-null   float64       \n",
      " 7   windgust          3380 non-null   float64       \n",
      " 8   windspeed         3652 non-null   float64       \n",
      " 9   windspeedmean     3652 non-null   float64       \n",
      " 10  winddir           3652 non-null   float64       \n",
      " 11  sealevelpressure  3652 non-null   float64       \n",
      " 12  cloudcover        3652 non-null   float64       \n",
      " 13  visibility        3652 non-null   float64       \n",
      " 14  solarenergy       3652 non-null   float64       \n",
      " 15  uvindex           3652 non-null   int64         \n",
      " 16  moonphase         3652 non-null   float64       \n",
      " 17  conditions        3652 non-null   object        \n",
      " 18  year              3652 non-null   int32         \n",
      " 19  month             3652 non-null   object        \n",
      "dtypes: datetime64[ns](1), float64(15), int32(1), int64(1), object(2)\n",
      "memory usage: 584.9+ KB\n"
     ]
    }
   ],
   "source": [
    "df.info()"
   ]
  },
  {
   "cell_type": "code",
   "execution_count": 20,
   "id": "5e3caaa2",
   "metadata": {},
   "outputs": [],
   "source": [
    "df.set_index(df.datetime,inplace=True)"
   ]
  },
  {
   "cell_type": "code",
   "execution_count": 21,
   "id": "2f67aa66",
   "metadata": {},
   "outputs": [
    {
     "data": {
      "text/html": [
       "<div>\n",
       "<style scoped>\n",
       "    .dataframe tbody tr th:only-of-type {\n",
       "        vertical-align: middle;\n",
       "    }\n",
       "\n",
       "    .dataframe tbody tr th {\n",
       "        vertical-align: top;\n",
       "    }\n",
       "\n",
       "    .dataframe thead th {\n",
       "        text-align: right;\n",
       "    }\n",
       "</style>\n",
       "<table border=\"1\" class=\"dataframe\">\n",
       "  <thead>\n",
       "    <tr style=\"text-align: right;\">\n",
       "      <th></th>\n",
       "      <th>tempmax</th>\n",
       "      <th>tempmin</th>\n",
       "      <th>temp</th>\n",
       "      <th>dew</th>\n",
       "      <th>humidity</th>\n",
       "      <th>precip</th>\n",
       "      <th>windgust</th>\n",
       "      <th>windspeed</th>\n",
       "      <th>windspeedmean</th>\n",
       "      <th>winddir</th>\n",
       "      <th>sealevelpressure</th>\n",
       "      <th>cloudcover</th>\n",
       "      <th>visibility</th>\n",
       "      <th>solarenergy</th>\n",
       "      <th>uvindex</th>\n",
       "      <th>moonphase</th>\n",
       "      <th>conditions</th>\n",
       "      <th>year</th>\n",
       "      <th>month</th>\n",
       "    </tr>\n",
       "    <tr>\n",
       "      <th>datetime</th>\n",
       "      <th></th>\n",
       "      <th></th>\n",
       "      <th></th>\n",
       "      <th></th>\n",
       "      <th></th>\n",
       "      <th></th>\n",
       "      <th></th>\n",
       "      <th></th>\n",
       "      <th></th>\n",
       "      <th></th>\n",
       "      <th></th>\n",
       "      <th></th>\n",
       "      <th></th>\n",
       "      <th></th>\n",
       "      <th></th>\n",
       "      <th></th>\n",
       "      <th></th>\n",
       "      <th></th>\n",
       "      <th></th>\n",
       "    </tr>\n",
       "  </thead>\n",
       "  <tbody>\n",
       "    <tr>\n",
       "      <th>2014-01-01</th>\n",
       "      <td>17.6</td>\n",
       "      <td>8.4</td>\n",
       "      <td>12.9</td>\n",
       "      <td>10.9</td>\n",
       "      <td>88.4</td>\n",
       "      <td>0.0</td>\n",
       "      <td>NaN</td>\n",
       "      <td>13.7</td>\n",
       "      <td>8.0</td>\n",
       "      <td>286.0</td>\n",
       "      <td>1020.6</td>\n",
       "      <td>52.8</td>\n",
       "      <td>1.0</td>\n",
       "      <td>13.3</td>\n",
       "      <td>6</td>\n",
       "      <td>0.00</td>\n",
       "      <td>No rain</td>\n",
       "      <td>2014</td>\n",
       "      <td>January</td>\n",
       "    </tr>\n",
       "    <tr>\n",
       "      <th>2014-01-02</th>\n",
       "      <td>17.7</td>\n",
       "      <td>4.0</td>\n",
       "      <td>10.2</td>\n",
       "      <td>6.2</td>\n",
       "      <td>80.4</td>\n",
       "      <td>0.0</td>\n",
       "      <td>NaN</td>\n",
       "      <td>18.4</td>\n",
       "      <td>10.0</td>\n",
       "      <td>269.0</td>\n",
       "      <td>1019.7</td>\n",
       "      <td>16.4</td>\n",
       "      <td>1.3</td>\n",
       "      <td>14.5</td>\n",
       "      <td>6</td>\n",
       "      <td>0.03</td>\n",
       "      <td>No rain</td>\n",
       "      <td>2014</td>\n",
       "      <td>January</td>\n",
       "    </tr>\n",
       "    <tr>\n",
       "      <th>2014-01-03</th>\n",
       "      <td>19.0</td>\n",
       "      <td>4.0</td>\n",
       "      <td>11.1</td>\n",
       "      <td>5.3</td>\n",
       "      <td>71.2</td>\n",
       "      <td>0.0</td>\n",
       "      <td>NaN</td>\n",
       "      <td>14.8</td>\n",
       "      <td>6.7</td>\n",
       "      <td>270.0</td>\n",
       "      <td>1017.8</td>\n",
       "      <td>8.7</td>\n",
       "      <td>1.7</td>\n",
       "      <td>14.5</td>\n",
       "      <td>6</td>\n",
       "      <td>0.06</td>\n",
       "      <td>No rain</td>\n",
       "      <td>2014</td>\n",
       "      <td>January</td>\n",
       "    </tr>\n",
       "    <tr>\n",
       "      <th>2014-01-04</th>\n",
       "      <td>19.0</td>\n",
       "      <td>8.5</td>\n",
       "      <td>13.3</td>\n",
       "      <td>9.6</td>\n",
       "      <td>80.3</td>\n",
       "      <td>0.0</td>\n",
       "      <td>NaN</td>\n",
       "      <td>14.8</td>\n",
       "      <td>4.1</td>\n",
       "      <td>92.2</td>\n",
       "      <td>1015.9</td>\n",
       "      <td>44.1</td>\n",
       "      <td>0.9</td>\n",
       "      <td>10.0</td>\n",
       "      <td>5</td>\n",
       "      <td>0.10</td>\n",
       "      <td>No rain</td>\n",
       "      <td>2014</td>\n",
       "      <td>January</td>\n",
       "    </tr>\n",
       "    <tr>\n",
       "      <th>2014-01-05</th>\n",
       "      <td>17.9</td>\n",
       "      <td>8.0</td>\n",
       "      <td>12.0</td>\n",
       "      <td>10.9</td>\n",
       "      <td>93.3</td>\n",
       "      <td>0.0</td>\n",
       "      <td>NaN</td>\n",
       "      <td>10.4</td>\n",
       "      <td>2.8</td>\n",
       "      <td>266.7</td>\n",
       "      <td>1014.3</td>\n",
       "      <td>40.6</td>\n",
       "      <td>0.3</td>\n",
       "      <td>12.9</td>\n",
       "      <td>6</td>\n",
       "      <td>0.13</td>\n",
       "      <td>No rain</td>\n",
       "      <td>2014</td>\n",
       "      <td>January</td>\n",
       "    </tr>\n",
       "    <tr>\n",
       "      <th>...</th>\n",
       "      <td>...</td>\n",
       "      <td>...</td>\n",
       "      <td>...</td>\n",
       "      <td>...</td>\n",
       "      <td>...</td>\n",
       "      <td>...</td>\n",
       "      <td>...</td>\n",
       "      <td>...</td>\n",
       "      <td>...</td>\n",
       "      <td>...</td>\n",
       "      <td>...</td>\n",
       "      <td>...</td>\n",
       "      <td>...</td>\n",
       "      <td>...</td>\n",
       "      <td>...</td>\n",
       "      <td>...</td>\n",
       "      <td>...</td>\n",
       "      <td>...</td>\n",
       "      <td>...</td>\n",
       "    </tr>\n",
       "    <tr>\n",
       "      <th>2023-12-27</th>\n",
       "      <td>19.5</td>\n",
       "      <td>10.3</td>\n",
       "      <td>13.0</td>\n",
       "      <td>11.6</td>\n",
       "      <td>91.9</td>\n",
       "      <td>0.0</td>\n",
       "      <td>11.2</td>\n",
       "      <td>9.4</td>\n",
       "      <td>4.3</td>\n",
       "      <td>255.4</td>\n",
       "      <td>1020.5</td>\n",
       "      <td>59.6</td>\n",
       "      <td>0.5</td>\n",
       "      <td>12.6</td>\n",
       "      <td>6</td>\n",
       "      <td>0.50</td>\n",
       "      <td>No rain</td>\n",
       "      <td>2023</td>\n",
       "      <td>December</td>\n",
       "    </tr>\n",
       "    <tr>\n",
       "      <th>2023-12-28</th>\n",
       "      <td>19.5</td>\n",
       "      <td>9.3</td>\n",
       "      <td>12.8</td>\n",
       "      <td>11.3</td>\n",
       "      <td>91.1</td>\n",
       "      <td>0.0</td>\n",
       "      <td>12.2</td>\n",
       "      <td>9.4</td>\n",
       "      <td>5.7</td>\n",
       "      <td>258.5</td>\n",
       "      <td>1019.4</td>\n",
       "      <td>52.3</td>\n",
       "      <td>0.5</td>\n",
       "      <td>12.8</td>\n",
       "      <td>6</td>\n",
       "      <td>0.54</td>\n",
       "      <td>No rain</td>\n",
       "      <td>2023</td>\n",
       "      <td>December</td>\n",
       "    </tr>\n",
       "    <tr>\n",
       "      <th>2023-12-29</th>\n",
       "      <td>18.6</td>\n",
       "      <td>12.0</td>\n",
       "      <td>13.8</td>\n",
       "      <td>12.8</td>\n",
       "      <td>93.9</td>\n",
       "      <td>0.0</td>\n",
       "      <td>7.9</td>\n",
       "      <td>9.4</td>\n",
       "      <td>3.4</td>\n",
       "      <td>159.8</td>\n",
       "      <td>1020.0</td>\n",
       "      <td>56.7</td>\n",
       "      <td>0.5</td>\n",
       "      <td>12.5</td>\n",
       "      <td>6</td>\n",
       "      <td>0.57</td>\n",
       "      <td>No rain</td>\n",
       "      <td>2023</td>\n",
       "      <td>December</td>\n",
       "    </tr>\n",
       "    <tr>\n",
       "      <th>2023-12-30</th>\n",
       "      <td>19.4</td>\n",
       "      <td>12.8</td>\n",
       "      <td>14.6</td>\n",
       "      <td>12.9</td>\n",
       "      <td>90.0</td>\n",
       "      <td>0.0</td>\n",
       "      <td>6.5</td>\n",
       "      <td>9.4</td>\n",
       "      <td>4.3</td>\n",
       "      <td>28.6</td>\n",
       "      <td>1018.7</td>\n",
       "      <td>39.7</td>\n",
       "      <td>0.9</td>\n",
       "      <td>9.8</td>\n",
       "      <td>5</td>\n",
       "      <td>0.60</td>\n",
       "      <td>No rain</td>\n",
       "      <td>2023</td>\n",
       "      <td>December</td>\n",
       "    </tr>\n",
       "    <tr>\n",
       "      <th>2023-12-31</th>\n",
       "      <td>16.0</td>\n",
       "      <td>11.5</td>\n",
       "      <td>13.3</td>\n",
       "      <td>11.1</td>\n",
       "      <td>87.0</td>\n",
       "      <td>0.0</td>\n",
       "      <td>5.8</td>\n",
       "      <td>9.4</td>\n",
       "      <td>4.8</td>\n",
       "      <td>72.6</td>\n",
       "      <td>1018.8</td>\n",
       "      <td>39.2</td>\n",
       "      <td>1.0</td>\n",
       "      <td>12.8</td>\n",
       "      <td>6</td>\n",
       "      <td>0.64</td>\n",
       "      <td>No rain</td>\n",
       "      <td>2023</td>\n",
       "      <td>December</td>\n",
       "    </tr>\n",
       "  </tbody>\n",
       "</table>\n",
       "<p>3652 rows × 19 columns</p>\n",
       "</div>"
      ],
      "text/plain": [
       "            tempmax  tempmin  temp   dew  humidity  precip  windgust  \\\n",
       "datetime                                                               \n",
       "2014-01-01     17.6      8.4  12.9  10.9      88.4     0.0       NaN   \n",
       "2014-01-02     17.7      4.0  10.2   6.2      80.4     0.0       NaN   \n",
       "2014-01-03     19.0      4.0  11.1   5.3      71.2     0.0       NaN   \n",
       "2014-01-04     19.0      8.5  13.3   9.6      80.3     0.0       NaN   \n",
       "2014-01-05     17.9      8.0  12.0  10.9      93.3     0.0       NaN   \n",
       "...             ...      ...   ...   ...       ...     ...       ...   \n",
       "2023-12-27     19.5     10.3  13.0  11.6      91.9     0.0      11.2   \n",
       "2023-12-28     19.5      9.3  12.8  11.3      91.1     0.0      12.2   \n",
       "2023-12-29     18.6     12.0  13.8  12.8      93.9     0.0       7.9   \n",
       "2023-12-30     19.4     12.8  14.6  12.9      90.0     0.0       6.5   \n",
       "2023-12-31     16.0     11.5  13.3  11.1      87.0     0.0       5.8   \n",
       "\n",
       "            windspeed  windspeedmean  winddir  sealevelpressure  cloudcover  \\\n",
       "datetime                                                                      \n",
       "2014-01-01       13.7            8.0    286.0            1020.6        52.8   \n",
       "2014-01-02       18.4           10.0    269.0            1019.7        16.4   \n",
       "2014-01-03       14.8            6.7    270.0            1017.8         8.7   \n",
       "2014-01-04       14.8            4.1     92.2            1015.9        44.1   \n",
       "2014-01-05       10.4            2.8    266.7            1014.3        40.6   \n",
       "...               ...            ...      ...               ...         ...   \n",
       "2023-12-27        9.4            4.3    255.4            1020.5        59.6   \n",
       "2023-12-28        9.4            5.7    258.5            1019.4        52.3   \n",
       "2023-12-29        9.4            3.4    159.8            1020.0        56.7   \n",
       "2023-12-30        9.4            4.3     28.6            1018.7        39.7   \n",
       "2023-12-31        9.4            4.8     72.6            1018.8        39.2   \n",
       "\n",
       "            visibility  solarenergy  uvindex  moonphase conditions  year  \\\n",
       "datetime                                                                   \n",
       "2014-01-01         1.0         13.3        6       0.00    No rain  2014   \n",
       "2014-01-02         1.3         14.5        6       0.03    No rain  2014   \n",
       "2014-01-03         1.7         14.5        6       0.06    No rain  2014   \n",
       "2014-01-04         0.9         10.0        5       0.10    No rain  2014   \n",
       "2014-01-05         0.3         12.9        6       0.13    No rain  2014   \n",
       "...                ...          ...      ...        ...        ...   ...   \n",
       "2023-12-27         0.5         12.6        6       0.50    No rain  2023   \n",
       "2023-12-28         0.5         12.8        6       0.54    No rain  2023   \n",
       "2023-12-29         0.5         12.5        6       0.57    No rain  2023   \n",
       "2023-12-30         0.9          9.8        5       0.60    No rain  2023   \n",
       "2023-12-31         1.0         12.8        6       0.64    No rain  2023   \n",
       "\n",
       "               month  \n",
       "datetime              \n",
       "2014-01-01   January  \n",
       "2014-01-02   January  \n",
       "2014-01-03   January  \n",
       "2014-01-04   January  \n",
       "2014-01-05   January  \n",
       "...              ...  \n",
       "2023-12-27  December  \n",
       "2023-12-28  December  \n",
       "2023-12-29  December  \n",
       "2023-12-30  December  \n",
       "2023-12-31  December  \n",
       "\n",
       "[3652 rows x 19 columns]"
      ]
     },
     "execution_count": 21,
     "metadata": {},
     "output_type": "execute_result"
    }
   ],
   "source": [
    "df = df.drop('datetime', axis=1)\n",
    "df"
   ]
  },
  {
   "cell_type": "code",
   "execution_count": 22,
   "id": "12ce9fea",
   "metadata": {},
   "outputs": [],
   "source": [
    "# df['conditions_tommorow'] = df['conditions'].shift(-1)\n",
    "# df = df.drop(df.index[-1])"
   ]
  },
  {
   "cell_type": "code",
   "execution_count": 23,
   "id": "66e389d7-cf86-4da4-9227-99e64349d732",
   "metadata": {},
   "outputs": [
    {
     "data": {
      "text/html": [
       "<div>\n",
       "<style scoped>\n",
       "    .dataframe tbody tr th:only-of-type {\n",
       "        vertical-align: middle;\n",
       "    }\n",
       "\n",
       "    .dataframe tbody tr th {\n",
       "        vertical-align: top;\n",
       "    }\n",
       "\n",
       "    .dataframe thead th {\n",
       "        text-align: right;\n",
       "    }\n",
       "</style>\n",
       "<table border=\"1\" class=\"dataframe\">\n",
       "  <thead>\n",
       "    <tr style=\"text-align: right;\">\n",
       "      <th></th>\n",
       "      <th>tempmax</th>\n",
       "      <th>tempmin</th>\n",
       "      <th>temp</th>\n",
       "      <th>dew</th>\n",
       "      <th>humidity</th>\n",
       "      <th>precip</th>\n",
       "      <th>windgust</th>\n",
       "      <th>windspeed</th>\n",
       "      <th>windspeedmean</th>\n",
       "      <th>winddir</th>\n",
       "      <th>sealevelpressure</th>\n",
       "      <th>cloudcover</th>\n",
       "      <th>visibility</th>\n",
       "      <th>solarenergy</th>\n",
       "      <th>uvindex</th>\n",
       "      <th>moonphase</th>\n",
       "      <th>year</th>\n",
       "      <th>month</th>\n",
       "      <th>conditions</th>\n",
       "    </tr>\n",
       "    <tr>\n",
       "      <th>datetime</th>\n",
       "      <th></th>\n",
       "      <th></th>\n",
       "      <th></th>\n",
       "      <th></th>\n",
       "      <th></th>\n",
       "      <th></th>\n",
       "      <th></th>\n",
       "      <th></th>\n",
       "      <th></th>\n",
       "      <th></th>\n",
       "      <th></th>\n",
       "      <th></th>\n",
       "      <th></th>\n",
       "      <th></th>\n",
       "      <th></th>\n",
       "      <th></th>\n",
       "      <th></th>\n",
       "      <th></th>\n",
       "      <th></th>\n",
       "    </tr>\n",
       "  </thead>\n",
       "  <tbody>\n",
       "    <tr>\n",
       "      <th>2014-01-01</th>\n",
       "      <td>17.6</td>\n",
       "      <td>8.4</td>\n",
       "      <td>12.9</td>\n",
       "      <td>10.9</td>\n",
       "      <td>88.4</td>\n",
       "      <td>0.0</td>\n",
       "      <td>NaN</td>\n",
       "      <td>13.7</td>\n",
       "      <td>8.0</td>\n",
       "      <td>286.0</td>\n",
       "      <td>1020.6</td>\n",
       "      <td>52.8</td>\n",
       "      <td>1.0</td>\n",
       "      <td>13.3</td>\n",
       "      <td>6</td>\n",
       "      <td>0.00</td>\n",
       "      <td>2014</td>\n",
       "      <td>January</td>\n",
       "      <td>No rain</td>\n",
       "    </tr>\n",
       "    <tr>\n",
       "      <th>2014-01-02</th>\n",
       "      <td>17.7</td>\n",
       "      <td>4.0</td>\n",
       "      <td>10.2</td>\n",
       "      <td>6.2</td>\n",
       "      <td>80.4</td>\n",
       "      <td>0.0</td>\n",
       "      <td>NaN</td>\n",
       "      <td>18.4</td>\n",
       "      <td>10.0</td>\n",
       "      <td>269.0</td>\n",
       "      <td>1019.7</td>\n",
       "      <td>16.4</td>\n",
       "      <td>1.3</td>\n",
       "      <td>14.5</td>\n",
       "      <td>6</td>\n",
       "      <td>0.03</td>\n",
       "      <td>2014</td>\n",
       "      <td>January</td>\n",
       "      <td>No rain</td>\n",
       "    </tr>\n",
       "    <tr>\n",
       "      <th>2014-01-03</th>\n",
       "      <td>19.0</td>\n",
       "      <td>4.0</td>\n",
       "      <td>11.1</td>\n",
       "      <td>5.3</td>\n",
       "      <td>71.2</td>\n",
       "      <td>0.0</td>\n",
       "      <td>NaN</td>\n",
       "      <td>14.8</td>\n",
       "      <td>6.7</td>\n",
       "      <td>270.0</td>\n",
       "      <td>1017.8</td>\n",
       "      <td>8.7</td>\n",
       "      <td>1.7</td>\n",
       "      <td>14.5</td>\n",
       "      <td>6</td>\n",
       "      <td>0.06</td>\n",
       "      <td>2014</td>\n",
       "      <td>January</td>\n",
       "      <td>No rain</td>\n",
       "    </tr>\n",
       "    <tr>\n",
       "      <th>2014-01-04</th>\n",
       "      <td>19.0</td>\n",
       "      <td>8.5</td>\n",
       "      <td>13.3</td>\n",
       "      <td>9.6</td>\n",
       "      <td>80.3</td>\n",
       "      <td>0.0</td>\n",
       "      <td>NaN</td>\n",
       "      <td>14.8</td>\n",
       "      <td>4.1</td>\n",
       "      <td>92.2</td>\n",
       "      <td>1015.9</td>\n",
       "      <td>44.1</td>\n",
       "      <td>0.9</td>\n",
       "      <td>10.0</td>\n",
       "      <td>5</td>\n",
       "      <td>0.10</td>\n",
       "      <td>2014</td>\n",
       "      <td>January</td>\n",
       "      <td>No rain</td>\n",
       "    </tr>\n",
       "    <tr>\n",
       "      <th>2014-01-05</th>\n",
       "      <td>17.9</td>\n",
       "      <td>8.0</td>\n",
       "      <td>12.0</td>\n",
       "      <td>10.9</td>\n",
       "      <td>93.3</td>\n",
       "      <td>0.0</td>\n",
       "      <td>NaN</td>\n",
       "      <td>10.4</td>\n",
       "      <td>2.8</td>\n",
       "      <td>266.7</td>\n",
       "      <td>1014.3</td>\n",
       "      <td>40.6</td>\n",
       "      <td>0.3</td>\n",
       "      <td>12.9</td>\n",
       "      <td>6</td>\n",
       "      <td>0.13</td>\n",
       "      <td>2014</td>\n",
       "      <td>January</td>\n",
       "      <td>No rain</td>\n",
       "    </tr>\n",
       "    <tr>\n",
       "      <th>...</th>\n",
       "      <td>...</td>\n",
       "      <td>...</td>\n",
       "      <td>...</td>\n",
       "      <td>...</td>\n",
       "      <td>...</td>\n",
       "      <td>...</td>\n",
       "      <td>...</td>\n",
       "      <td>...</td>\n",
       "      <td>...</td>\n",
       "      <td>...</td>\n",
       "      <td>...</td>\n",
       "      <td>...</td>\n",
       "      <td>...</td>\n",
       "      <td>...</td>\n",
       "      <td>...</td>\n",
       "      <td>...</td>\n",
       "      <td>...</td>\n",
       "      <td>...</td>\n",
       "      <td>...</td>\n",
       "    </tr>\n",
       "    <tr>\n",
       "      <th>2023-12-27</th>\n",
       "      <td>19.5</td>\n",
       "      <td>10.3</td>\n",
       "      <td>13.0</td>\n",
       "      <td>11.6</td>\n",
       "      <td>91.9</td>\n",
       "      <td>0.0</td>\n",
       "      <td>11.2</td>\n",
       "      <td>9.4</td>\n",
       "      <td>4.3</td>\n",
       "      <td>255.4</td>\n",
       "      <td>1020.5</td>\n",
       "      <td>59.6</td>\n",
       "      <td>0.5</td>\n",
       "      <td>12.6</td>\n",
       "      <td>6</td>\n",
       "      <td>0.50</td>\n",
       "      <td>2023</td>\n",
       "      <td>December</td>\n",
       "      <td>No rain</td>\n",
       "    </tr>\n",
       "    <tr>\n",
       "      <th>2023-12-28</th>\n",
       "      <td>19.5</td>\n",
       "      <td>9.3</td>\n",
       "      <td>12.8</td>\n",
       "      <td>11.3</td>\n",
       "      <td>91.1</td>\n",
       "      <td>0.0</td>\n",
       "      <td>12.2</td>\n",
       "      <td>9.4</td>\n",
       "      <td>5.7</td>\n",
       "      <td>258.5</td>\n",
       "      <td>1019.4</td>\n",
       "      <td>52.3</td>\n",
       "      <td>0.5</td>\n",
       "      <td>12.8</td>\n",
       "      <td>6</td>\n",
       "      <td>0.54</td>\n",
       "      <td>2023</td>\n",
       "      <td>December</td>\n",
       "      <td>No rain</td>\n",
       "    </tr>\n",
       "    <tr>\n",
       "      <th>2023-12-29</th>\n",
       "      <td>18.6</td>\n",
       "      <td>12.0</td>\n",
       "      <td>13.8</td>\n",
       "      <td>12.8</td>\n",
       "      <td>93.9</td>\n",
       "      <td>0.0</td>\n",
       "      <td>7.9</td>\n",
       "      <td>9.4</td>\n",
       "      <td>3.4</td>\n",
       "      <td>159.8</td>\n",
       "      <td>1020.0</td>\n",
       "      <td>56.7</td>\n",
       "      <td>0.5</td>\n",
       "      <td>12.5</td>\n",
       "      <td>6</td>\n",
       "      <td>0.57</td>\n",
       "      <td>2023</td>\n",
       "      <td>December</td>\n",
       "      <td>No rain</td>\n",
       "    </tr>\n",
       "    <tr>\n",
       "      <th>2023-12-30</th>\n",
       "      <td>19.4</td>\n",
       "      <td>12.8</td>\n",
       "      <td>14.6</td>\n",
       "      <td>12.9</td>\n",
       "      <td>90.0</td>\n",
       "      <td>0.0</td>\n",
       "      <td>6.5</td>\n",
       "      <td>9.4</td>\n",
       "      <td>4.3</td>\n",
       "      <td>28.6</td>\n",
       "      <td>1018.7</td>\n",
       "      <td>39.7</td>\n",
       "      <td>0.9</td>\n",
       "      <td>9.8</td>\n",
       "      <td>5</td>\n",
       "      <td>0.60</td>\n",
       "      <td>2023</td>\n",
       "      <td>December</td>\n",
       "      <td>No rain</td>\n",
       "    </tr>\n",
       "    <tr>\n",
       "      <th>2023-12-31</th>\n",
       "      <td>16.0</td>\n",
       "      <td>11.5</td>\n",
       "      <td>13.3</td>\n",
       "      <td>11.1</td>\n",
       "      <td>87.0</td>\n",
       "      <td>0.0</td>\n",
       "      <td>5.8</td>\n",
       "      <td>9.4</td>\n",
       "      <td>4.8</td>\n",
       "      <td>72.6</td>\n",
       "      <td>1018.8</td>\n",
       "      <td>39.2</td>\n",
       "      <td>1.0</td>\n",
       "      <td>12.8</td>\n",
       "      <td>6</td>\n",
       "      <td>0.64</td>\n",
       "      <td>2023</td>\n",
       "      <td>December</td>\n",
       "      <td>No rain</td>\n",
       "    </tr>\n",
       "  </tbody>\n",
       "</table>\n",
       "<p>3652 rows × 19 columns</p>\n",
       "</div>"
      ],
      "text/plain": [
       "            tempmax  tempmin  temp   dew  humidity  precip  windgust  \\\n",
       "datetime                                                               \n",
       "2014-01-01     17.6      8.4  12.9  10.9      88.4     0.0       NaN   \n",
       "2014-01-02     17.7      4.0  10.2   6.2      80.4     0.0       NaN   \n",
       "2014-01-03     19.0      4.0  11.1   5.3      71.2     0.0       NaN   \n",
       "2014-01-04     19.0      8.5  13.3   9.6      80.3     0.0       NaN   \n",
       "2014-01-05     17.9      8.0  12.0  10.9      93.3     0.0       NaN   \n",
       "...             ...      ...   ...   ...       ...     ...       ...   \n",
       "2023-12-27     19.5     10.3  13.0  11.6      91.9     0.0      11.2   \n",
       "2023-12-28     19.5      9.3  12.8  11.3      91.1     0.0      12.2   \n",
       "2023-12-29     18.6     12.0  13.8  12.8      93.9     0.0       7.9   \n",
       "2023-12-30     19.4     12.8  14.6  12.9      90.0     0.0       6.5   \n",
       "2023-12-31     16.0     11.5  13.3  11.1      87.0     0.0       5.8   \n",
       "\n",
       "            windspeed  windspeedmean  winddir  sealevelpressure  cloudcover  \\\n",
       "datetime                                                                      \n",
       "2014-01-01       13.7            8.0    286.0            1020.6        52.8   \n",
       "2014-01-02       18.4           10.0    269.0            1019.7        16.4   \n",
       "2014-01-03       14.8            6.7    270.0            1017.8         8.7   \n",
       "2014-01-04       14.8            4.1     92.2            1015.9        44.1   \n",
       "2014-01-05       10.4            2.8    266.7            1014.3        40.6   \n",
       "...               ...            ...      ...               ...         ...   \n",
       "2023-12-27        9.4            4.3    255.4            1020.5        59.6   \n",
       "2023-12-28        9.4            5.7    258.5            1019.4        52.3   \n",
       "2023-12-29        9.4            3.4    159.8            1020.0        56.7   \n",
       "2023-12-30        9.4            4.3     28.6            1018.7        39.7   \n",
       "2023-12-31        9.4            4.8     72.6            1018.8        39.2   \n",
       "\n",
       "            visibility  solarenergy  uvindex  moonphase  year     month  \\\n",
       "datetime                                                                  \n",
       "2014-01-01         1.0         13.3        6       0.00  2014   January   \n",
       "2014-01-02         1.3         14.5        6       0.03  2014   January   \n",
       "2014-01-03         1.7         14.5        6       0.06  2014   January   \n",
       "2014-01-04         0.9         10.0        5       0.10  2014   January   \n",
       "2014-01-05         0.3         12.9        6       0.13  2014   January   \n",
       "...                ...          ...      ...        ...   ...       ...   \n",
       "2023-12-27         0.5         12.6        6       0.50  2023  December   \n",
       "2023-12-28         0.5         12.8        6       0.54  2023  December   \n",
       "2023-12-29         0.5         12.5        6       0.57  2023  December   \n",
       "2023-12-30         0.9          9.8        5       0.60  2023  December   \n",
       "2023-12-31         1.0         12.8        6       0.64  2023  December   \n",
       "\n",
       "           conditions  \n",
       "datetime               \n",
       "2014-01-01    No rain  \n",
       "2014-01-02    No rain  \n",
       "2014-01-03    No rain  \n",
       "2014-01-04    No rain  \n",
       "2014-01-05    No rain  \n",
       "...               ...  \n",
       "2023-12-27    No rain  \n",
       "2023-12-28    No rain  \n",
       "2023-12-29    No rain  \n",
       "2023-12-30    No rain  \n",
       "2023-12-31    No rain  \n",
       "\n",
       "[3652 rows x 19 columns]"
      ]
     },
     "execution_count": 23,
     "metadata": {},
     "output_type": "execute_result"
    }
   ],
   "source": [
    "\n",
    "cols = df.columns.tolist()  \n",
    "cols.append(cols.pop(-3))\n",
    "df = df[cols] \n",
    "df"
   ]
  },
  {
   "cell_type": "markdown",
   "id": "6b9c6756",
   "metadata": {},
   "source": [
    "# Handling null values"
   ]
  },
  {
   "cell_type": "markdown",
   "id": "cd92e4c7",
   "metadata": {},
   "source": [
    "### there are 272 null values in wind gust that needs to be filled"
   ]
  },
  {
   "cell_type": "code",
   "execution_count": 24,
   "id": "dd9e1f37",
   "metadata": {},
   "outputs": [],
   "source": [
    "no_rain_mean = df[df['conditions'] == 'No rain']['windgust'].mean()\n",
    "rain_mean = df[df['conditions'] == 'Rain']['windgust'].mean()"
   ]
  },
  {
   "cell_type": "code",
   "execution_count": 25,
   "id": "5e2b11b6",
   "metadata": {},
   "outputs": [
    {
     "name": "stdout",
     "output_type": "stream",
     "text": [
      "the mean of windgust for 'No rain'=  27.61093630084421\n",
      "the mean of windgust for 'rain'=  34.02687338501292\n"
     ]
    }
   ],
   "source": [
    "print(\"the mean of windgust for 'No rain'= \",no_rain_mean)\n",
    "print(\"the mean of windgust for 'rain'= \",rain_mean)"
   ]
  },
  {
   "cell_type": "code",
   "execution_count": 26,
   "id": "7ec7c9b3",
   "metadata": {},
   "outputs": [],
   "source": [
    "df.loc[df['conditions'] == 'No rain', 'windgust'] = df.loc[df['conditions'] == 'No rain', 'windgust'].fillna(no_rain_mean)\n",
    "df.loc[df['conditions'] == 'Rain', 'windgust'] = df.loc[df['conditions'] == 'Rain', 'windgust'].fillna(rain_mean)"
   ]
  },
  {
   "cell_type": "code",
   "execution_count": 27,
   "id": "2c05b5bf",
   "metadata": {},
   "outputs": [
    {
     "data": {
      "text/plain": [
       "tempmax             0\n",
       "tempmin             0\n",
       "temp                0\n",
       "dew                 0\n",
       "humidity            0\n",
       "precip              0\n",
       "windgust            0\n",
       "windspeed           0\n",
       "windspeedmean       0\n",
       "winddir             0\n",
       "sealevelpressure    0\n",
       "cloudcover          0\n",
       "visibility          0\n",
       "solarenergy         0\n",
       "uvindex             0\n",
       "moonphase           0\n",
       "year                0\n",
       "month               0\n",
       "conditions          0\n",
       "dtype: int64"
      ]
     },
     "execution_count": 27,
     "metadata": {},
     "output_type": "execute_result"
    }
   ],
   "source": [
    "df.isnull().sum()"
   ]
  },
  {
   "cell_type": "markdown",
   "id": "b03f3364",
   "metadata": {},
   "source": [
    "# Train Test Split"
   ]
  },
  {
   "cell_type": "code",
   "execution_count": 28,
   "id": "9cc791c5",
   "metadata": {},
   "outputs": [],
   "source": [
    "# Splttting data in train and test \n",
    "\n",
    "train = df.loc[\"2014-01-01\":\"2021-12-31\"]\n",
    "test = df.loc[\"2022-01-01\":\"2023-12-31\"]"
   ]
  },
  {
   "cell_type": "code",
   "execution_count": 29,
   "id": "b52df4ae",
   "metadata": {},
   "outputs": [],
   "source": [
    "# Input column\n",
    "input_cols = list(train.columns)[0:-1]\n",
    "target_col = 'conditions'"
   ]
  },
  {
   "cell_type": "code",
   "execution_count": 30,
   "id": "965f7644",
   "metadata": {},
   "outputs": [
    {
     "name": "stdout",
     "output_type": "stream",
     "text": [
      "['tempmax', 'tempmin', 'temp', 'dew', 'humidity', 'precip', 'windgust', 'windspeed', 'windspeedmean', 'winddir', 'sealevelpressure', 'cloudcover', 'visibility', 'solarenergy', 'uvindex', 'moonphase', 'year', 'month']\n",
      "conditions\n"
     ]
    }
   ],
   "source": [
    "print(input_cols)\n",
    "print(target_col)"
   ]
  },
  {
   "cell_type": "code",
   "execution_count": 31,
   "id": "a78a9cd2",
   "metadata": {},
   "outputs": [],
   "source": [
    "# making a copy of Traing data\n",
    "\n",
    "train_inputs = train[input_cols].copy()\n",
    "train_targets = train[target_col].copy()"
   ]
  },
  {
   "cell_type": "code",
   "execution_count": 32,
   "id": "0f371b6a",
   "metadata": {},
   "outputs": [],
   "source": [
    "# making a copy of Test data\n",
    "\n",
    "test_inputs = test[input_cols].copy()\n",
    "test_targets = test[target_col].copy()"
   ]
  },
  {
   "cell_type": "code",
   "execution_count": 33,
   "id": "c978a702",
   "metadata": {},
   "outputs": [],
   "source": [
    "# Differentiating numerical columns and categorical column\n",
    "\n",
    "numeric_cols = train_inputs.select_dtypes(include=np.number).columns.tolist()\n",
    "categorical_cols = train_inputs.select_dtypes('object').columns.tolist()"
   ]
  },
  {
   "cell_type": "code",
   "execution_count": 34,
   "id": "1ebedb89",
   "metadata": {},
   "outputs": [
    {
     "name": "stdout",
     "output_type": "stream",
     "text": [
      "numeric columns are  ['tempmax', 'tempmin', 'temp', 'dew', 'humidity', 'precip', 'windgust', 'windspeed', 'windspeedmean', 'winddir', 'sealevelpressure', 'cloudcover', 'visibility', 'solarenergy', 'uvindex', 'moonphase', 'year']\n"
     ]
    }
   ],
   "source": [
    "print(\"numeric columns are \",numeric_cols)"
   ]
  },
  {
   "cell_type": "code",
   "execution_count": 35,
   "id": "2bfb9272",
   "metadata": {},
   "outputs": [
    {
     "name": "stdout",
     "output_type": "stream",
     "text": [
      "numeric categorical are  ['month']\n"
     ]
    }
   ],
   "source": [
    "print(\"numeric categorical are \",categorical_cols)"
   ]
  },
  {
   "cell_type": "markdown",
   "id": "627764a5",
   "metadata": {},
   "source": [
    "# Standardizing values of Input columns"
   ]
  },
  {
   "cell_type": "code",
   "execution_count": 36,
   "id": "75084b97",
   "metadata": {},
   "outputs": [],
   "source": [
    "from sklearn.preprocessing import MinMaxScaler"
   ]
  },
  {
   "cell_type": "code",
   "execution_count": 37,
   "id": "821d29d1",
   "metadata": {},
   "outputs": [],
   "source": [
    "scaler = MinMaxScaler()"
   ]
  },
  {
   "cell_type": "code",
   "execution_count": 38,
   "id": "dd2a5dac",
   "metadata": {},
   "outputs": [
    {
     "data": {
      "text/html": [
       "<style>#sk-container-id-1 {color: black;background-color: white;}#sk-container-id-1 pre{padding: 0;}#sk-container-id-1 div.sk-toggleable {background-color: white;}#sk-container-id-1 label.sk-toggleable__label {cursor: pointer;display: block;width: 100%;margin-bottom: 0;padding: 0.3em;box-sizing: border-box;text-align: center;}#sk-container-id-1 label.sk-toggleable__label-arrow:before {content: \"▸\";float: left;margin-right: 0.25em;color: #696969;}#sk-container-id-1 label.sk-toggleable__label-arrow:hover:before {color: black;}#sk-container-id-1 div.sk-estimator:hover label.sk-toggleable__label-arrow:before {color: black;}#sk-container-id-1 div.sk-toggleable__content {max-height: 0;max-width: 0;overflow: hidden;text-align: left;background-color: #f0f8ff;}#sk-container-id-1 div.sk-toggleable__content pre {margin: 0.2em;color: black;border-radius: 0.25em;background-color: #f0f8ff;}#sk-container-id-1 input.sk-toggleable__control:checked~div.sk-toggleable__content {max-height: 200px;max-width: 100%;overflow: auto;}#sk-container-id-1 input.sk-toggleable__control:checked~label.sk-toggleable__label-arrow:before {content: \"▾\";}#sk-container-id-1 div.sk-estimator input.sk-toggleable__control:checked~label.sk-toggleable__label {background-color: #d4ebff;}#sk-container-id-1 div.sk-label input.sk-toggleable__control:checked~label.sk-toggleable__label {background-color: #d4ebff;}#sk-container-id-1 input.sk-hidden--visually {border: 0;clip: rect(1px 1px 1px 1px);clip: rect(1px, 1px, 1px, 1px);height: 1px;margin: -1px;overflow: hidden;padding: 0;position: absolute;width: 1px;}#sk-container-id-1 div.sk-estimator {font-family: monospace;background-color: #f0f8ff;border: 1px dotted black;border-radius: 0.25em;box-sizing: border-box;margin-bottom: 0.5em;}#sk-container-id-1 div.sk-estimator:hover {background-color: #d4ebff;}#sk-container-id-1 div.sk-parallel-item::after {content: \"\";width: 100%;border-bottom: 1px solid gray;flex-grow: 1;}#sk-container-id-1 div.sk-label:hover label.sk-toggleable__label {background-color: #d4ebff;}#sk-container-id-1 div.sk-serial::before {content: \"\";position: absolute;border-left: 1px solid gray;box-sizing: border-box;top: 0;bottom: 0;left: 50%;z-index: 0;}#sk-container-id-1 div.sk-serial {display: flex;flex-direction: column;align-items: center;background-color: white;padding-right: 0.2em;padding-left: 0.2em;position: relative;}#sk-container-id-1 div.sk-item {position: relative;z-index: 1;}#sk-container-id-1 div.sk-parallel {display: flex;align-items: stretch;justify-content: center;background-color: white;position: relative;}#sk-container-id-1 div.sk-item::before, #sk-container-id-1 div.sk-parallel-item::before {content: \"\";position: absolute;border-left: 1px solid gray;box-sizing: border-box;top: 0;bottom: 0;left: 50%;z-index: -1;}#sk-container-id-1 div.sk-parallel-item {display: flex;flex-direction: column;z-index: 1;position: relative;background-color: white;}#sk-container-id-1 div.sk-parallel-item:first-child::after {align-self: flex-end;width: 50%;}#sk-container-id-1 div.sk-parallel-item:last-child::after {align-self: flex-start;width: 50%;}#sk-container-id-1 div.sk-parallel-item:only-child::after {width: 0;}#sk-container-id-1 div.sk-dashed-wrapped {border: 1px dashed gray;margin: 0 0.4em 0.5em 0.4em;box-sizing: border-box;padding-bottom: 0.4em;background-color: white;}#sk-container-id-1 div.sk-label label {font-family: monospace;font-weight: bold;display: inline-block;line-height: 1.2em;}#sk-container-id-1 div.sk-label-container {text-align: center;}#sk-container-id-1 div.sk-container {/* jupyter's `normalize.less` sets `[hidden] { display: none; }` but bootstrap.min.css set `[hidden] { display: none !important; }` so we also need the `!important` here to be able to override the default hidden behavior on the sphinx rendered scikit-learn.org. See: https://github.com/scikit-learn/scikit-learn/issues/21755 */display: inline-block !important;position: relative;}#sk-container-id-1 div.sk-text-repr-fallback {display: none;}</style><div id=\"sk-container-id-1\" class=\"sk-top-container\"><div class=\"sk-text-repr-fallback\"><pre>MinMaxScaler()</pre><b>In a Jupyter environment, please rerun this cell to show the HTML representation or trust the notebook. <br />On GitHub, the HTML representation is unable to render, please try loading this page with nbviewer.org.</b></div><div class=\"sk-container\" hidden><div class=\"sk-item\"><div class=\"sk-estimator sk-toggleable\"><input class=\"sk-toggleable__control sk-hidden--visually\" id=\"sk-estimator-id-1\" type=\"checkbox\" checked><label for=\"sk-estimator-id-1\" class=\"sk-toggleable__label sk-toggleable__label-arrow\">MinMaxScaler</label><div class=\"sk-toggleable__content\"><pre>MinMaxScaler()</pre></div></div></div></div></div>"
      ],
      "text/plain": [
       "MinMaxScaler()"
      ]
     },
     "execution_count": 38,
     "metadata": {},
     "output_type": "execute_result"
    }
   ],
   "source": [
    "scaler.fit(df[numeric_cols])"
   ]
  },
  {
   "cell_type": "code",
   "execution_count": 39,
   "id": "7045d18a",
   "metadata": {},
   "outputs": [],
   "source": [
    "train_inputs[numeric_cols] = scaler.transform(train_inputs[numeric_cols])\n",
    "test_inputs[numeric_cols] = scaler.transform(test_inputs[numeric_cols])"
   ]
  },
  {
   "cell_type": "code",
   "execution_count": 40,
   "id": "1ec9b9c9",
   "metadata": {},
   "outputs": [
    {
     "data": {
      "text/html": [
       "<div>\n",
       "<style scoped>\n",
       "    .dataframe tbody tr th:only-of-type {\n",
       "        vertical-align: middle;\n",
       "    }\n",
       "\n",
       "    .dataframe tbody tr th {\n",
       "        vertical-align: top;\n",
       "    }\n",
       "\n",
       "    .dataframe thead th {\n",
       "        text-align: right;\n",
       "    }\n",
       "</style>\n",
       "<table border=\"1\" class=\"dataframe\">\n",
       "  <thead>\n",
       "    <tr style=\"text-align: right;\">\n",
       "      <th></th>\n",
       "      <th>tempmax</th>\n",
       "      <th>tempmin</th>\n",
       "      <th>temp</th>\n",
       "      <th>dew</th>\n",
       "      <th>humidity</th>\n",
       "      <th>precip</th>\n",
       "      <th>windgust</th>\n",
       "      <th>windspeed</th>\n",
       "      <th>windspeedmean</th>\n",
       "      <th>winddir</th>\n",
       "      <th>sealevelpressure</th>\n",
       "      <th>cloudcover</th>\n",
       "      <th>visibility</th>\n",
       "      <th>solarenergy</th>\n",
       "      <th>uvindex</th>\n",
       "      <th>moonphase</th>\n",
       "      <th>year</th>\n",
       "    </tr>\n",
       "  </thead>\n",
       "  <tbody>\n",
       "    <tr>\n",
       "      <th>count</th>\n",
       "      <td>2922.000000</td>\n",
       "      <td>2922.000000</td>\n",
       "      <td>2922.000000</td>\n",
       "      <td>2922.000000</td>\n",
       "      <td>2922.000000</td>\n",
       "      <td>2922.000000</td>\n",
       "      <td>2922.000000</td>\n",
       "      <td>2922.000000</td>\n",
       "      <td>2922.000000</td>\n",
       "      <td>2922.000000</td>\n",
       "      <td>2922.000000</td>\n",
       "      <td>2922.000000</td>\n",
       "      <td>2922.000000</td>\n",
       "      <td>2922.000000</td>\n",
       "      <td>2922.000000</td>\n",
       "      <td>2922.000000</td>\n",
       "      <td>2922.000000</td>\n",
       "    </tr>\n",
       "    <tr>\n",
       "      <th>mean</th>\n",
       "      <td>0.589545</td>\n",
       "      <td>0.554279</td>\n",
       "      <td>0.571053</td>\n",
       "      <td>0.568591</td>\n",
       "      <td>0.566012</td>\n",
       "      <td>0.014664</td>\n",
       "      <td>0.300153</td>\n",
       "      <td>0.058019</td>\n",
       "      <td>0.283551</td>\n",
       "      <td>0.599783</td>\n",
       "      <td>0.523854</td>\n",
       "      <td>0.331748</td>\n",
       "      <td>0.138923</td>\n",
       "      <td>0.604468</td>\n",
       "      <td>0.764750</td>\n",
       "      <td>0.493449</td>\n",
       "      <td>0.388927</td>\n",
       "    </tr>\n",
       "    <tr>\n",
       "      <th>std</th>\n",
       "      <td>0.186842</td>\n",
       "      <td>0.230171</td>\n",
       "      <td>0.223510</td>\n",
       "      <td>0.243628</td>\n",
       "      <td>0.207132</td>\n",
       "      <td>0.063811</td>\n",
       "      <td>0.111939</td>\n",
       "      <td>0.038502</td>\n",
       "      <td>0.137766</td>\n",
       "      <td>0.270329</td>\n",
       "      <td>0.214787</td>\n",
       "      <td>0.270831</td>\n",
       "      <td>0.049336</td>\n",
       "      <td>0.167050</td>\n",
       "      <td>0.157337</td>\n",
       "      <td>0.294505</td>\n",
       "      <td>0.254615</td>\n",
       "    </tr>\n",
       "    <tr>\n",
       "      <th>min</th>\n",
       "      <td>0.000000</td>\n",
       "      <td>0.000000</td>\n",
       "      <td>0.000000</td>\n",
       "      <td>0.000000</td>\n",
       "      <td>0.000000</td>\n",
       "      <td>0.000000</td>\n",
       "      <td>0.090566</td>\n",
       "      <td>0.000000</td>\n",
       "      <td>0.000000</td>\n",
       "      <td>0.000000</td>\n",
       "      <td>0.000000</td>\n",
       "      <td>0.000000</td>\n",
       "      <td>0.000000</td>\n",
       "      <td>0.000000</td>\n",
       "      <td>0.000000</td>\n",
       "      <td>0.000000</td>\n",
       "      <td>0.000000</td>\n",
       "    </tr>\n",
       "    <tr>\n",
       "      <th>25%</th>\n",
       "      <td>0.451187</td>\n",
       "      <td>0.349398</td>\n",
       "      <td>0.373860</td>\n",
       "      <td>0.370787</td>\n",
       "      <td>0.438702</td>\n",
       "      <td>0.000000</td>\n",
       "      <td>0.216352</td>\n",
       "      <td>0.038306</td>\n",
       "      <td>0.181452</td>\n",
       "      <td>0.305726</td>\n",
       "      <td>0.335385</td>\n",
       "      <td>0.068000</td>\n",
       "      <td>0.101124</td>\n",
       "      <td>0.475475</td>\n",
       "      <td>0.700000</td>\n",
       "      <td>0.255102</td>\n",
       "      <td>0.222222</td>\n",
       "    </tr>\n",
       "    <tr>\n",
       "      <th>50%</th>\n",
       "      <td>0.630607</td>\n",
       "      <td>0.605422</td>\n",
       "      <td>0.641337</td>\n",
       "      <td>0.520599</td>\n",
       "      <td>0.588341</td>\n",
       "      <td>0.000000</td>\n",
       "      <td>0.280503</td>\n",
       "      <td>0.056452</td>\n",
       "      <td>0.274194</td>\n",
       "      <td>0.751323</td>\n",
       "      <td>0.523077</td>\n",
       "      <td>0.307000</td>\n",
       "      <td>0.151685</td>\n",
       "      <td>0.594937</td>\n",
       "      <td>0.800000</td>\n",
       "      <td>0.510204</td>\n",
       "      <td>0.388889</td>\n",
       "    </tr>\n",
       "    <tr>\n",
       "      <th>75%</th>\n",
       "      <td>0.720317</td>\n",
       "      <td>0.762048</td>\n",
       "      <td>0.747720</td>\n",
       "      <td>0.812734</td>\n",
       "      <td>0.713942</td>\n",
       "      <td>0.000000</td>\n",
       "      <td>0.362264</td>\n",
       "      <td>0.076109</td>\n",
       "      <td>0.375000</td>\n",
       "      <td>0.807676</td>\n",
       "      <td>0.713846</td>\n",
       "      <td>0.550750</td>\n",
       "      <td>0.179775</td>\n",
       "      <td>0.746835</td>\n",
       "      <td>0.900000</td>\n",
       "      <td>0.765306</td>\n",
       "      <td>0.638889</td>\n",
       "    </tr>\n",
       "    <tr>\n",
       "      <th>max</th>\n",
       "      <td>1.000000</td>\n",
       "      <td>1.000000</td>\n",
       "      <td>1.000000</td>\n",
       "      <td>0.996255</td>\n",
       "      <td>1.000000</td>\n",
       "      <td>1.000000</td>\n",
       "      <td>1.000000</td>\n",
       "      <td>1.000000</td>\n",
       "      <td>1.000000</td>\n",
       "      <td>1.000000</td>\n",
       "      <td>0.978462</td>\n",
       "      <td>1.000000</td>\n",
       "      <td>0.269663</td>\n",
       "      <td>1.000000</td>\n",
       "      <td>1.000000</td>\n",
       "      <td>1.000000</td>\n",
       "      <td>0.777778</td>\n",
       "    </tr>\n",
       "  </tbody>\n",
       "</table>\n",
       "</div>"
      ],
      "text/plain": [
       "           tempmax      tempmin         temp          dew     humidity  \\\n",
       "count  2922.000000  2922.000000  2922.000000  2922.000000  2922.000000   \n",
       "mean      0.589545     0.554279     0.571053     0.568591     0.566012   \n",
       "std       0.186842     0.230171     0.223510     0.243628     0.207132   \n",
       "min       0.000000     0.000000     0.000000     0.000000     0.000000   \n",
       "25%       0.451187     0.349398     0.373860     0.370787     0.438702   \n",
       "50%       0.630607     0.605422     0.641337     0.520599     0.588341   \n",
       "75%       0.720317     0.762048     0.747720     0.812734     0.713942   \n",
       "max       1.000000     1.000000     1.000000     0.996255     1.000000   \n",
       "\n",
       "            precip     windgust    windspeed  windspeedmean      winddir  \\\n",
       "count  2922.000000  2922.000000  2922.000000    2922.000000  2922.000000   \n",
       "mean      0.014664     0.300153     0.058019       0.283551     0.599783   \n",
       "std       0.063811     0.111939     0.038502       0.137766     0.270329   \n",
       "min       0.000000     0.090566     0.000000       0.000000     0.000000   \n",
       "25%       0.000000     0.216352     0.038306       0.181452     0.305726   \n",
       "50%       0.000000     0.280503     0.056452       0.274194     0.751323   \n",
       "75%       0.000000     0.362264     0.076109       0.375000     0.807676   \n",
       "max       1.000000     1.000000     1.000000       1.000000     1.000000   \n",
       "\n",
       "       sealevelpressure   cloudcover   visibility  solarenergy      uvindex  \\\n",
       "count       2922.000000  2922.000000  2922.000000  2922.000000  2922.000000   \n",
       "mean           0.523854     0.331748     0.138923     0.604468     0.764750   \n",
       "std            0.214787     0.270831     0.049336     0.167050     0.157337   \n",
       "min            0.000000     0.000000     0.000000     0.000000     0.000000   \n",
       "25%            0.335385     0.068000     0.101124     0.475475     0.700000   \n",
       "50%            0.523077     0.307000     0.151685     0.594937     0.800000   \n",
       "75%            0.713846     0.550750     0.179775     0.746835     0.900000   \n",
       "max            0.978462     1.000000     0.269663     1.000000     1.000000   \n",
       "\n",
       "         moonphase         year  \n",
       "count  2922.000000  2922.000000  \n",
       "mean      0.493449     0.388927  \n",
       "std       0.294505     0.254615  \n",
       "min       0.000000     0.000000  \n",
       "25%       0.255102     0.222222  \n",
       "50%       0.510204     0.388889  \n",
       "75%       0.765306     0.638889  \n",
       "max       1.000000     0.777778  "
      ]
     },
     "execution_count": 40,
     "metadata": {},
     "output_type": "execute_result"
    }
   ],
   "source": [
    "train_inputs[numeric_cols].describe()"
   ]
  },
  {
   "cell_type": "markdown",
   "id": "5ae20f84",
   "metadata": {},
   "source": [
    "# Encoding categorical data in Input columns"
   ]
  },
  {
   "cell_type": "code",
   "execution_count": 41,
   "id": "446a8581",
   "metadata": {},
   "outputs": [],
   "source": [
    "from sklearn.preprocessing import OneHotEncoder"
   ]
  },
  {
   "cell_type": "code",
   "execution_count": 42,
   "id": "e59bfe4d",
   "metadata": {},
   "outputs": [],
   "source": [
    "encoder = OneHotEncoder(sparse_output=False, handle_unknown='ignore')"
   ]
  },
  {
   "cell_type": "code",
   "execution_count": 43,
   "id": "46ef1b1d",
   "metadata": {},
   "outputs": [
    {
     "data": {
      "text/html": [
       "<style>#sk-container-id-2 {color: black;background-color: white;}#sk-container-id-2 pre{padding: 0;}#sk-container-id-2 div.sk-toggleable {background-color: white;}#sk-container-id-2 label.sk-toggleable__label {cursor: pointer;display: block;width: 100%;margin-bottom: 0;padding: 0.3em;box-sizing: border-box;text-align: center;}#sk-container-id-2 label.sk-toggleable__label-arrow:before {content: \"▸\";float: left;margin-right: 0.25em;color: #696969;}#sk-container-id-2 label.sk-toggleable__label-arrow:hover:before {color: black;}#sk-container-id-2 div.sk-estimator:hover label.sk-toggleable__label-arrow:before {color: black;}#sk-container-id-2 div.sk-toggleable__content {max-height: 0;max-width: 0;overflow: hidden;text-align: left;background-color: #f0f8ff;}#sk-container-id-2 div.sk-toggleable__content pre {margin: 0.2em;color: black;border-radius: 0.25em;background-color: #f0f8ff;}#sk-container-id-2 input.sk-toggleable__control:checked~div.sk-toggleable__content {max-height: 200px;max-width: 100%;overflow: auto;}#sk-container-id-2 input.sk-toggleable__control:checked~label.sk-toggleable__label-arrow:before {content: \"▾\";}#sk-container-id-2 div.sk-estimator input.sk-toggleable__control:checked~label.sk-toggleable__label {background-color: #d4ebff;}#sk-container-id-2 div.sk-label input.sk-toggleable__control:checked~label.sk-toggleable__label {background-color: #d4ebff;}#sk-container-id-2 input.sk-hidden--visually {border: 0;clip: rect(1px 1px 1px 1px);clip: rect(1px, 1px, 1px, 1px);height: 1px;margin: -1px;overflow: hidden;padding: 0;position: absolute;width: 1px;}#sk-container-id-2 div.sk-estimator {font-family: monospace;background-color: #f0f8ff;border: 1px dotted black;border-radius: 0.25em;box-sizing: border-box;margin-bottom: 0.5em;}#sk-container-id-2 div.sk-estimator:hover {background-color: #d4ebff;}#sk-container-id-2 div.sk-parallel-item::after {content: \"\";width: 100%;border-bottom: 1px solid gray;flex-grow: 1;}#sk-container-id-2 div.sk-label:hover label.sk-toggleable__label {background-color: #d4ebff;}#sk-container-id-2 div.sk-serial::before {content: \"\";position: absolute;border-left: 1px solid gray;box-sizing: border-box;top: 0;bottom: 0;left: 50%;z-index: 0;}#sk-container-id-2 div.sk-serial {display: flex;flex-direction: column;align-items: center;background-color: white;padding-right: 0.2em;padding-left: 0.2em;position: relative;}#sk-container-id-2 div.sk-item {position: relative;z-index: 1;}#sk-container-id-2 div.sk-parallel {display: flex;align-items: stretch;justify-content: center;background-color: white;position: relative;}#sk-container-id-2 div.sk-item::before, #sk-container-id-2 div.sk-parallel-item::before {content: \"\";position: absolute;border-left: 1px solid gray;box-sizing: border-box;top: 0;bottom: 0;left: 50%;z-index: -1;}#sk-container-id-2 div.sk-parallel-item {display: flex;flex-direction: column;z-index: 1;position: relative;background-color: white;}#sk-container-id-2 div.sk-parallel-item:first-child::after {align-self: flex-end;width: 50%;}#sk-container-id-2 div.sk-parallel-item:last-child::after {align-self: flex-start;width: 50%;}#sk-container-id-2 div.sk-parallel-item:only-child::after {width: 0;}#sk-container-id-2 div.sk-dashed-wrapped {border: 1px dashed gray;margin: 0 0.4em 0.5em 0.4em;box-sizing: border-box;padding-bottom: 0.4em;background-color: white;}#sk-container-id-2 div.sk-label label {font-family: monospace;font-weight: bold;display: inline-block;line-height: 1.2em;}#sk-container-id-2 div.sk-label-container {text-align: center;}#sk-container-id-2 div.sk-container {/* jupyter's `normalize.less` sets `[hidden] { display: none; }` but bootstrap.min.css set `[hidden] { display: none !important; }` so we also need the `!important` here to be able to override the default hidden behavior on the sphinx rendered scikit-learn.org. See: https://github.com/scikit-learn/scikit-learn/issues/21755 */display: inline-block !important;position: relative;}#sk-container-id-2 div.sk-text-repr-fallback {display: none;}</style><div id=\"sk-container-id-2\" class=\"sk-top-container\"><div class=\"sk-text-repr-fallback\"><pre>OneHotEncoder(handle_unknown=&#x27;ignore&#x27;, sparse_output=False)</pre><b>In a Jupyter environment, please rerun this cell to show the HTML representation or trust the notebook. <br />On GitHub, the HTML representation is unable to render, please try loading this page with nbviewer.org.</b></div><div class=\"sk-container\" hidden><div class=\"sk-item\"><div class=\"sk-estimator sk-toggleable\"><input class=\"sk-toggleable__control sk-hidden--visually\" id=\"sk-estimator-id-2\" type=\"checkbox\" checked><label for=\"sk-estimator-id-2\" class=\"sk-toggleable__label sk-toggleable__label-arrow\">OneHotEncoder</label><div class=\"sk-toggleable__content\"><pre>OneHotEncoder(handle_unknown=&#x27;ignore&#x27;, sparse_output=False)</pre></div></div></div></div></div>"
      ],
      "text/plain": [
       "OneHotEncoder(handle_unknown='ignore', sparse_output=False)"
      ]
     },
     "execution_count": 43,
     "metadata": {},
     "output_type": "execute_result"
    }
   ],
   "source": [
    "encoder.fit(df[categorical_cols])"
   ]
  },
  {
   "cell_type": "code",
   "execution_count": 44,
   "id": "52056dd0",
   "metadata": {},
   "outputs": [
    {
     "data": {
      "text/plain": [
       "[array(['April', 'August', 'December', 'February', 'January', 'July',\n",
       "        'June', 'March', 'May', 'November', 'October', 'September'],\n",
       "       dtype=object)]"
      ]
     },
     "execution_count": 44,
     "metadata": {},
     "output_type": "execute_result"
    }
   ],
   "source": [
    "encoder.categories_"
   ]
  },
  {
   "cell_type": "code",
   "execution_count": 45,
   "id": "c064384f",
   "metadata": {},
   "outputs": [
    {
     "name": "stdout",
     "output_type": "stream",
     "text": [
      "['month_April', 'month_August', 'month_December', 'month_February', 'month_January', 'month_July', 'month_June', 'month_March', 'month_May', 'month_November', 'month_October', 'month_September']\n"
     ]
    }
   ],
   "source": [
    "encoded_cols = list(encoder.get_feature_names_out(categorical_cols))\n",
    "print(encoded_cols)"
   ]
  },
  {
   "cell_type": "code",
   "execution_count": 46,
   "id": "c45eca01",
   "metadata": {},
   "outputs": [],
   "source": [
    "train_inputs[encoded_cols] = encoder.transform(train_inputs[categorical_cols])\n",
    "test_inputs[encoded_cols] = encoder.transform(test_inputs[categorical_cols])"
   ]
  },
  {
   "cell_type": "markdown",
   "id": "08e41cea",
   "metadata": {},
   "source": [
    "# Encoding categorical data in Output columns"
   ]
  },
  {
   "cell_type": "code",
   "execution_count": 47,
   "id": "a7cc883a",
   "metadata": {},
   "outputs": [],
   "source": [
    "from sklearn.preprocessing import OrdinalEncoder"
   ]
  },
  {
   "cell_type": "code",
   "execution_count": 48,
   "id": "88518c13",
   "metadata": {},
   "outputs": [],
   "source": [
    "oe = OrdinalEncoder(categories=[[\"No rain\",\"Rain\"]],dtype=int)"
   ]
  },
  {
   "cell_type": "code",
   "execution_count": 49,
   "id": "a394e8dd",
   "metadata": {},
   "outputs": [
    {
     "data": {
      "text/html": [
       "<style>#sk-container-id-3 {color: black;background-color: white;}#sk-container-id-3 pre{padding: 0;}#sk-container-id-3 div.sk-toggleable {background-color: white;}#sk-container-id-3 label.sk-toggleable__label {cursor: pointer;display: block;width: 100%;margin-bottom: 0;padding: 0.3em;box-sizing: border-box;text-align: center;}#sk-container-id-3 label.sk-toggleable__label-arrow:before {content: \"▸\";float: left;margin-right: 0.25em;color: #696969;}#sk-container-id-3 label.sk-toggleable__label-arrow:hover:before {color: black;}#sk-container-id-3 div.sk-estimator:hover label.sk-toggleable__label-arrow:before {color: black;}#sk-container-id-3 div.sk-toggleable__content {max-height: 0;max-width: 0;overflow: hidden;text-align: left;background-color: #f0f8ff;}#sk-container-id-3 div.sk-toggleable__content pre {margin: 0.2em;color: black;border-radius: 0.25em;background-color: #f0f8ff;}#sk-container-id-3 input.sk-toggleable__control:checked~div.sk-toggleable__content {max-height: 200px;max-width: 100%;overflow: auto;}#sk-container-id-3 input.sk-toggleable__control:checked~label.sk-toggleable__label-arrow:before {content: \"▾\";}#sk-container-id-3 div.sk-estimator input.sk-toggleable__control:checked~label.sk-toggleable__label {background-color: #d4ebff;}#sk-container-id-3 div.sk-label input.sk-toggleable__control:checked~label.sk-toggleable__label {background-color: #d4ebff;}#sk-container-id-3 input.sk-hidden--visually {border: 0;clip: rect(1px 1px 1px 1px);clip: rect(1px, 1px, 1px, 1px);height: 1px;margin: -1px;overflow: hidden;padding: 0;position: absolute;width: 1px;}#sk-container-id-3 div.sk-estimator {font-family: monospace;background-color: #f0f8ff;border: 1px dotted black;border-radius: 0.25em;box-sizing: border-box;margin-bottom: 0.5em;}#sk-container-id-3 div.sk-estimator:hover {background-color: #d4ebff;}#sk-container-id-3 div.sk-parallel-item::after {content: \"\";width: 100%;border-bottom: 1px solid gray;flex-grow: 1;}#sk-container-id-3 div.sk-label:hover label.sk-toggleable__label {background-color: #d4ebff;}#sk-container-id-3 div.sk-serial::before {content: \"\";position: absolute;border-left: 1px solid gray;box-sizing: border-box;top: 0;bottom: 0;left: 50%;z-index: 0;}#sk-container-id-3 div.sk-serial {display: flex;flex-direction: column;align-items: center;background-color: white;padding-right: 0.2em;padding-left: 0.2em;position: relative;}#sk-container-id-3 div.sk-item {position: relative;z-index: 1;}#sk-container-id-3 div.sk-parallel {display: flex;align-items: stretch;justify-content: center;background-color: white;position: relative;}#sk-container-id-3 div.sk-item::before, #sk-container-id-3 div.sk-parallel-item::before {content: \"\";position: absolute;border-left: 1px solid gray;box-sizing: border-box;top: 0;bottom: 0;left: 50%;z-index: -1;}#sk-container-id-3 div.sk-parallel-item {display: flex;flex-direction: column;z-index: 1;position: relative;background-color: white;}#sk-container-id-3 div.sk-parallel-item:first-child::after {align-self: flex-end;width: 50%;}#sk-container-id-3 div.sk-parallel-item:last-child::after {align-self: flex-start;width: 50%;}#sk-container-id-3 div.sk-parallel-item:only-child::after {width: 0;}#sk-container-id-3 div.sk-dashed-wrapped {border: 1px dashed gray;margin: 0 0.4em 0.5em 0.4em;box-sizing: border-box;padding-bottom: 0.4em;background-color: white;}#sk-container-id-3 div.sk-label label {font-family: monospace;font-weight: bold;display: inline-block;line-height: 1.2em;}#sk-container-id-3 div.sk-label-container {text-align: center;}#sk-container-id-3 div.sk-container {/* jupyter's `normalize.less` sets `[hidden] { display: none; }` but bootstrap.min.css set `[hidden] { display: none !important; }` so we also need the `!important` here to be able to override the default hidden behavior on the sphinx rendered scikit-learn.org. See: https://github.com/scikit-learn/scikit-learn/issues/21755 */display: inline-block !important;position: relative;}#sk-container-id-3 div.sk-text-repr-fallback {display: none;}</style><div id=\"sk-container-id-3\" class=\"sk-top-container\"><div class=\"sk-text-repr-fallback\"><pre>OrdinalEncoder(categories=[[&#x27;No rain&#x27;, &#x27;Rain&#x27;]], dtype=&lt;class &#x27;int&#x27;&gt;)</pre><b>In a Jupyter environment, please rerun this cell to show the HTML representation or trust the notebook. <br />On GitHub, the HTML representation is unable to render, please try loading this page with nbviewer.org.</b></div><div class=\"sk-container\" hidden><div class=\"sk-item\"><div class=\"sk-estimator sk-toggleable\"><input class=\"sk-toggleable__control sk-hidden--visually\" id=\"sk-estimator-id-3\" type=\"checkbox\" checked><label for=\"sk-estimator-id-3\" class=\"sk-toggleable__label sk-toggleable__label-arrow\">OrdinalEncoder</label><div class=\"sk-toggleable__content\"><pre>OrdinalEncoder(categories=[[&#x27;No rain&#x27;, &#x27;Rain&#x27;]], dtype=&lt;class &#x27;int&#x27;&gt;)</pre></div></div></div></div></div>"
      ],
      "text/plain": [
       "OrdinalEncoder(categories=[['No rain', 'Rain']], dtype=<class 'int'>)"
      ]
     },
     "execution_count": 49,
     "metadata": {},
     "output_type": "execute_result"
    }
   ],
   "source": [
    "oe.fit(df[[\"conditions\"]])"
   ]
  },
  {
   "cell_type": "code",
   "execution_count": 50,
   "id": "987c3517",
   "metadata": {},
   "outputs": [],
   "source": [
    "train_data_reshaped = np.array(train_targets).reshape(-1, 1)\n",
    "test_data_reshaped = np.array(test_targets).reshape(-1, 1)"
   ]
  },
  {
   "cell_type": "code",
   "execution_count": 51,
   "id": "d9fea9c3",
   "metadata": {},
   "outputs": [
    {
     "name": "stderr",
     "output_type": "stream",
     "text": [
      "C:\\ProgramData\\anaconda3\\Lib\\site-packages\\sklearn\\base.py:439: UserWarning: X does not have valid feature names, but OrdinalEncoder was fitted with feature names\n",
      "  warnings.warn(\n",
      "C:\\ProgramData\\anaconda3\\Lib\\site-packages\\sklearn\\base.py:439: UserWarning: X does not have valid feature names, but OrdinalEncoder was fitted with feature names\n",
      "  warnings.warn(\n"
     ]
    }
   ],
   "source": [
    "train_targets = oe.transform(train_data_reshaped)\n",
    "test_targets = oe.transform(test_data_reshaped)\n",
    "train_targets = train_targets.reshape(-1)\n",
    "test_targets = test_targets.reshape(-1)"
   ]
  },
  {
   "cell_type": "code",
   "execution_count": 52,
   "id": "a5b415c1",
   "metadata": {},
   "outputs": [
    {
     "data": {
      "text/plain": [
       "(2922,)"
      ]
     },
     "execution_count": 52,
     "metadata": {},
     "output_type": "execute_result"
    }
   ],
   "source": [
    "train_targets.shape"
   ]
  },
  {
   "cell_type": "code",
   "execution_count": 53,
   "id": "532ede17",
   "metadata": {},
   "outputs": [
    {
     "data": {
      "text/plain": [
       "(730,)"
      ]
     },
     "execution_count": 53,
     "metadata": {},
     "output_type": "execute_result"
    }
   ],
   "source": [
    "test_targets.shape"
   ]
  },
  {
   "cell_type": "code",
   "execution_count": 54,
   "id": "5f9502ae",
   "metadata": {},
   "outputs": [],
   "source": [
    "input_columns=train_inputs[numeric_cols+encoded_cols]"
   ]
  },
  {
   "cell_type": "code",
   "execution_count": 55,
   "id": "9fa26055-2bd8-45da-baf1-b0fbc2b70884",
   "metadata": {},
   "outputs": [],
   "source": [
    "from sklearn.svm import SVC\n",
    "from imblearn.pipeline import Pipeline\n",
    "from imblearn.over_sampling import SMOTE\n",
    "from sklearn.metrics import accuracy_score,classification_report,confusion_matrix\n"
   ]
  },
  {
   "cell_type": "code",
   "execution_count": 56,
   "id": "e74f5afe-7fc9-4941-bd43-fa11c1d31eed",
   "metadata": {},
   "outputs": [],
   "source": [
    "X_train=train_inputs[numeric_cols+encoded_cols]\n",
    "y_train=train_targets\n",
    "\n",
    "X_test=test_inputs[numeric_cols+encoded_cols]\n",
    "y_test=test_targets\n"
   ]
  },
  {
   "cell_type": "code",
   "execution_count": 57,
   "id": "4e798a0f-c78b-444b-aff1-8d17c50ff196",
   "metadata": {},
   "outputs": [
    {
     "name": "stderr",
     "output_type": "stream",
     "text": [
      "C:\\Users\\PC\\AppData\\Roaming\\Python\\Python311\\site-packages\\keras\\src\\layers\\core\\dense.py:87: UserWarning: Do not pass an `input_shape`/`input_dim` argument to a layer. When using Sequential models, prefer using an `Input(shape)` object as the first layer in the model instead.\n",
      "  super().__init__(activity_regularizer=activity_regularizer, **kwargs)\n"
     ]
    },
    {
     "name": "stdout",
     "output_type": "stream",
     "text": [
      "Epoch 1/10\n",
      "\u001b[1m74/74\u001b[0m \u001b[32m━━━━━━━━━━━━━━━━━━━━\u001b[0m\u001b[37m\u001b[0m \u001b[1m5s\u001b[0m 14ms/step - accuracy: 0.7757 - loss: 0.5078 - val_accuracy: 0.8051 - val_loss: 0.3929\n",
      "Epoch 2/10\n",
      "\u001b[1m74/74\u001b[0m \u001b[32m━━━━━━━━━━━━━━━━━━━━\u001b[0m\u001b[37m\u001b[0m \u001b[1m1s\u001b[0m 8ms/step - accuracy: 0.8464 - loss: 0.3490 - val_accuracy: 0.8205 - val_loss: 0.3434\n",
      "Epoch 3/10\n",
      "\u001b[1m74/74\u001b[0m \u001b[32m━━━━━━━━━━━━━━━━━━━━\u001b[0m\u001b[37m\u001b[0m \u001b[1m1s\u001b[0m 4ms/step - accuracy: 0.8486 - loss: 0.3245 - val_accuracy: 0.8393 - val_loss: 0.3209\n",
      "Epoch 4/10\n",
      "\u001b[1m74/74\u001b[0m \u001b[32m━━━━━━━━━━━━━━━━━━━━\u001b[0m\u001b[37m\u001b[0m \u001b[1m1s\u001b[0m 3ms/step - accuracy: 0.8603 - loss: 0.3033 - val_accuracy: 0.8547 - val_loss: 0.3055\n",
      "Epoch 5/10\n",
      "\u001b[1m74/74\u001b[0m \u001b[32m━━━━━━━━━━━━━━━━━━━━\u001b[0m\u001b[37m\u001b[0m \u001b[1m0s\u001b[0m 3ms/step - accuracy: 0.8847 - loss: 0.2686 - val_accuracy: 0.8581 - val_loss: 0.2977\n",
      "Epoch 6/10\n",
      "\u001b[1m74/74\u001b[0m \u001b[32m━━━━━━━━━━━━━━━━━━━━\u001b[0m\u001b[37m\u001b[0m \u001b[1m0s\u001b[0m 3ms/step - accuracy: 0.8902 - loss: 0.2454 - val_accuracy: 0.8684 - val_loss: 0.2850\n",
      "Epoch 7/10\n",
      "\u001b[1m74/74\u001b[0m \u001b[32m━━━━━━━━━━━━━━━━━━━━\u001b[0m\u001b[37m\u001b[0m \u001b[1m0s\u001b[0m 4ms/step - accuracy: 0.8888 - loss: 0.2494 - val_accuracy: 0.8786 - val_loss: 0.2780\n",
      "Epoch 8/10\n",
      "\u001b[1m74/74\u001b[0m \u001b[32m━━━━━━━━━━━━━━━━━━━━\u001b[0m\u001b[37m\u001b[0m \u001b[1m1s\u001b[0m 4ms/step - accuracy: 0.8692 - loss: 0.2824 - val_accuracy: 0.8615 - val_loss: 0.2857\n",
      "Epoch 9/10\n",
      "\u001b[1m74/74\u001b[0m \u001b[32m━━━━━━━━━━━━━━━━━━━━\u001b[0m\u001b[37m\u001b[0m \u001b[1m1s\u001b[0m 4ms/step - accuracy: 0.8817 - loss: 0.2500 - val_accuracy: 0.8803 - val_loss: 0.2731\n",
      "Epoch 10/10\n",
      "\u001b[1m74/74\u001b[0m \u001b[32m━━━━━━━━━━━━━━━━━━━━\u001b[0m\u001b[37m\u001b[0m \u001b[1m1s\u001b[0m 5ms/step - accuracy: 0.8866 - loss: 0.2450 - val_accuracy: 0.8838 - val_loss: 0.2703\n",
      "\u001b[1m23/23\u001b[0m \u001b[32m━━━━━━━━━━━━━━━━━━━━\u001b[0m\u001b[37m\u001b[0m \u001b[1m0s\u001b[0m 2ms/step - accuracy: 0.9150 - loss: 0.2235 \n",
      "Test accuracy: 0.9151\n"
     ]
    }
   ],
   "source": [
    "import tensorflow\n",
    "from tensorflow.keras import layers, models\n",
    "# Define the model\n",
    "model = models.Sequential([\n",
    "    layers.Dense(64, activation='relu', input_shape=(X_train.shape[1],)),\n",
    "    layers.Dense(32, activation='relu'),\n",
    "    layers.Dense(1, activation='sigmoid')  # Sigmoid for binary classification\n",
    "])\n",
    "\n",
    "model.compile(optimizer='adam',\n",
    "              loss='binary_crossentropy',\n",
    "              metrics=['accuracy'])\n",
    "history = model.fit(X_train, y_train, epochs=10, batch_size=32, validation_split=0.2)\n",
    "test_loss, test_acc = model.evaluate(X_test, y_test)\n",
    "print(f\"Test accuracy: {test_acc:.4f}\")\n"
   ]
  },
  {
   "cell_type": "code",
   "execution_count": 58,
   "id": "f6bc4629-c89a-4033-8b21-2ae94c5527af",
   "metadata": {},
   "outputs": [
    {
     "name": "stdout",
     "output_type": "stream",
     "text": [
      "Cross-Validation Accuracy Scores: [0.89041096 0.82191781 0.89726027 0.78082192 0.92465753]\n",
      "Mean Cross-Validation Accuracy: 0.86\n"
     ]
    }
   ],
   "source": [
    "from sklearn.model_selection import cross_val_score\n",
    "\n",
    "svm = SVC(C=1, kernel='linear', random_state=42)\n",
    "\n",
    "# Perform cross-validation\n",
    "cv_scores = cross_val_score(svm, X_test, y_test, cv=5, scoring='accuracy')\n",
    "\n",
    "print(f\"Cross-Validation Accuracy Scores: {cv_scores}\")\n",
    "print(f\"Mean Cross-Validation Accuracy: {cv_scores.mean():.2f}\")\n"
   ]
  },
  {
   "cell_type": "code",
   "execution_count": 59,
   "id": "0685d465-bfb4-43ea-9dc9-241cc650e6e9",
   "metadata": {},
   "outputs": [
    {
     "name": "stdout",
     "output_type": "stream",
     "text": [
      "0.8952772073921971\n",
      "0.9246575342465754\n"
     ]
    }
   ],
   "source": [
    "from sklearn.feature_selection import SelectKBest, f_classif\n",
    "\n",
    "feature_selector = SelectKBest(score_func=f_classif, k='all')\n",
    "\n",
    "svm = SVC(C=1.0, kernel='linear', random_state=42)\n",
    "\n",
    "# Create pipeline\n",
    "pipeline = Pipeline([\n",
    "    ('feature_selection', feature_selector),\n",
    "    ('classification', svm)\n",
    "])\n",
    "\n",
    "# Fit pipeline\n",
    "pipeline.fit(X_train, y_train)\n",
    "\n",
    "# Evaluate performance\n",
    "train_accuracy = pipeline.score(X_train, y_train)\n",
    "print(train_accuracy)\n",
    "test_accuracy = pipeline.score(X_test, y_test)\n",
    "print(test_accuracy)"
   ]
  },
  {
   "cell_type": "code",
   "execution_count": 60,
   "id": "f10acd35-ab1b-4ea1-8412-91da7cf19658",
   "metadata": {},
   "outputs": [],
   "source": [
    "smote = SMOTE(sampling_strategy='auto', random_state=42)  # Balance the minority class to the majority class size\n",
    "X_resampled, y_resampled = smote.fit_resample(X_train, y_train)"
   ]
  },
  {
   "cell_type": "code",
   "execution_count": 61,
   "id": "a353967d-49c3-427a-84b5-5beb9874f7c9",
   "metadata": {},
   "outputs": [],
   "source": [
    "svm = SVC(kernel='linear', random_state=42)\n",
    "\n",
    "# Create a pipeline that first applies SMOTE and then fits the SVM model\n",
    "pipeline = Pipeline([\n",
    "    ('smote', smote),\n",
    "    ('svm', svm)\n",
    "])"
   ]
  },
  {
   "cell_type": "code",
   "execution_count": 62,
   "id": "2d6fb276-e3e9-47e4-b96c-12da07e84664",
   "metadata": {},
   "outputs": [
    {
     "data": {
      "text/html": [
       "<style>#sk-container-id-4 {color: black;background-color: white;}#sk-container-id-4 pre{padding: 0;}#sk-container-id-4 div.sk-toggleable {background-color: white;}#sk-container-id-4 label.sk-toggleable__label {cursor: pointer;display: block;width: 100%;margin-bottom: 0;padding: 0.3em;box-sizing: border-box;text-align: center;}#sk-container-id-4 label.sk-toggleable__label-arrow:before {content: \"▸\";float: left;margin-right: 0.25em;color: #696969;}#sk-container-id-4 label.sk-toggleable__label-arrow:hover:before {color: black;}#sk-container-id-4 div.sk-estimator:hover label.sk-toggleable__label-arrow:before {color: black;}#sk-container-id-4 div.sk-toggleable__content {max-height: 0;max-width: 0;overflow: hidden;text-align: left;background-color: #f0f8ff;}#sk-container-id-4 div.sk-toggleable__content pre {margin: 0.2em;color: black;border-radius: 0.25em;background-color: #f0f8ff;}#sk-container-id-4 input.sk-toggleable__control:checked~div.sk-toggleable__content {max-height: 200px;max-width: 100%;overflow: auto;}#sk-container-id-4 input.sk-toggleable__control:checked~label.sk-toggleable__label-arrow:before {content: \"▾\";}#sk-container-id-4 div.sk-estimator input.sk-toggleable__control:checked~label.sk-toggleable__label {background-color: #d4ebff;}#sk-container-id-4 div.sk-label input.sk-toggleable__control:checked~label.sk-toggleable__label {background-color: #d4ebff;}#sk-container-id-4 input.sk-hidden--visually {border: 0;clip: rect(1px 1px 1px 1px);clip: rect(1px, 1px, 1px, 1px);height: 1px;margin: -1px;overflow: hidden;padding: 0;position: absolute;width: 1px;}#sk-container-id-4 div.sk-estimator {font-family: monospace;background-color: #f0f8ff;border: 1px dotted black;border-radius: 0.25em;box-sizing: border-box;margin-bottom: 0.5em;}#sk-container-id-4 div.sk-estimator:hover {background-color: #d4ebff;}#sk-container-id-4 div.sk-parallel-item::after {content: \"\";width: 100%;border-bottom: 1px solid gray;flex-grow: 1;}#sk-container-id-4 div.sk-label:hover label.sk-toggleable__label {background-color: #d4ebff;}#sk-container-id-4 div.sk-serial::before {content: \"\";position: absolute;border-left: 1px solid gray;box-sizing: border-box;top: 0;bottom: 0;left: 50%;z-index: 0;}#sk-container-id-4 div.sk-serial {display: flex;flex-direction: column;align-items: center;background-color: white;padding-right: 0.2em;padding-left: 0.2em;position: relative;}#sk-container-id-4 div.sk-item {position: relative;z-index: 1;}#sk-container-id-4 div.sk-parallel {display: flex;align-items: stretch;justify-content: center;background-color: white;position: relative;}#sk-container-id-4 div.sk-item::before, #sk-container-id-4 div.sk-parallel-item::before {content: \"\";position: absolute;border-left: 1px solid gray;box-sizing: border-box;top: 0;bottom: 0;left: 50%;z-index: -1;}#sk-container-id-4 div.sk-parallel-item {display: flex;flex-direction: column;z-index: 1;position: relative;background-color: white;}#sk-container-id-4 div.sk-parallel-item:first-child::after {align-self: flex-end;width: 50%;}#sk-container-id-4 div.sk-parallel-item:last-child::after {align-self: flex-start;width: 50%;}#sk-container-id-4 div.sk-parallel-item:only-child::after {width: 0;}#sk-container-id-4 div.sk-dashed-wrapped {border: 1px dashed gray;margin: 0 0.4em 0.5em 0.4em;box-sizing: border-box;padding-bottom: 0.4em;background-color: white;}#sk-container-id-4 div.sk-label label {font-family: monospace;font-weight: bold;display: inline-block;line-height: 1.2em;}#sk-container-id-4 div.sk-label-container {text-align: center;}#sk-container-id-4 div.sk-container {/* jupyter's `normalize.less` sets `[hidden] { display: none; }` but bootstrap.min.css set `[hidden] { display: none !important; }` so we also need the `!important` here to be able to override the default hidden behavior on the sphinx rendered scikit-learn.org. See: https://github.com/scikit-learn/scikit-learn/issues/21755 */display: inline-block !important;position: relative;}#sk-container-id-4 div.sk-text-repr-fallback {display: none;}</style><div id=\"sk-container-id-4\" class=\"sk-top-container\"><div class=\"sk-text-repr-fallback\"><pre>SVC(kernel=&#x27;linear&#x27;, random_state=42)</pre><b>In a Jupyter environment, please rerun this cell to show the HTML representation or trust the notebook. <br />On GitHub, the HTML representation is unable to render, please try loading this page with nbviewer.org.</b></div><div class=\"sk-container\" hidden><div class=\"sk-item\"><div class=\"sk-estimator sk-toggleable\"><input class=\"sk-toggleable__control sk-hidden--visually\" id=\"sk-estimator-id-4\" type=\"checkbox\" checked><label for=\"sk-estimator-id-4\" class=\"sk-toggleable__label sk-toggleable__label-arrow\">SVC</label><div class=\"sk-toggleable__content\"><pre>SVC(kernel=&#x27;linear&#x27;, random_state=42)</pre></div></div></div></div></div>"
      ],
      "text/plain": [
       "SVC(kernel='linear', random_state=42)"
      ]
     },
     "execution_count": 62,
     "metadata": {},
     "output_type": "execute_result"
    }
   ],
   "source": [
    "svm.fit(X_train, y_train)"
   ]
  },
  {
   "cell_type": "code",
   "execution_count": 63,
   "id": "6bdf8140-9896-4e22-822b-4d4c4c28aadb",
   "metadata": {},
   "outputs": [
    {
     "data": {
      "text/html": [
       "<style>#sk-container-id-5 {color: black;background-color: white;}#sk-container-id-5 pre{padding: 0;}#sk-container-id-5 div.sk-toggleable {background-color: white;}#sk-container-id-5 label.sk-toggleable__label {cursor: pointer;display: block;width: 100%;margin-bottom: 0;padding: 0.3em;box-sizing: border-box;text-align: center;}#sk-container-id-5 label.sk-toggleable__label-arrow:before {content: \"▸\";float: left;margin-right: 0.25em;color: #696969;}#sk-container-id-5 label.sk-toggleable__label-arrow:hover:before {color: black;}#sk-container-id-5 div.sk-estimator:hover label.sk-toggleable__label-arrow:before {color: black;}#sk-container-id-5 div.sk-toggleable__content {max-height: 0;max-width: 0;overflow: hidden;text-align: left;background-color: #f0f8ff;}#sk-container-id-5 div.sk-toggleable__content pre {margin: 0.2em;color: black;border-radius: 0.25em;background-color: #f0f8ff;}#sk-container-id-5 input.sk-toggleable__control:checked~div.sk-toggleable__content {max-height: 200px;max-width: 100%;overflow: auto;}#sk-container-id-5 input.sk-toggleable__control:checked~label.sk-toggleable__label-arrow:before {content: \"▾\";}#sk-container-id-5 div.sk-estimator input.sk-toggleable__control:checked~label.sk-toggleable__label {background-color: #d4ebff;}#sk-container-id-5 div.sk-label input.sk-toggleable__control:checked~label.sk-toggleable__label {background-color: #d4ebff;}#sk-container-id-5 input.sk-hidden--visually {border: 0;clip: rect(1px 1px 1px 1px);clip: rect(1px, 1px, 1px, 1px);height: 1px;margin: -1px;overflow: hidden;padding: 0;position: absolute;width: 1px;}#sk-container-id-5 div.sk-estimator {font-family: monospace;background-color: #f0f8ff;border: 1px dotted black;border-radius: 0.25em;box-sizing: border-box;margin-bottom: 0.5em;}#sk-container-id-5 div.sk-estimator:hover {background-color: #d4ebff;}#sk-container-id-5 div.sk-parallel-item::after {content: \"\";width: 100%;border-bottom: 1px solid gray;flex-grow: 1;}#sk-container-id-5 div.sk-label:hover label.sk-toggleable__label {background-color: #d4ebff;}#sk-container-id-5 div.sk-serial::before {content: \"\";position: absolute;border-left: 1px solid gray;box-sizing: border-box;top: 0;bottom: 0;left: 50%;z-index: 0;}#sk-container-id-5 div.sk-serial {display: flex;flex-direction: column;align-items: center;background-color: white;padding-right: 0.2em;padding-left: 0.2em;position: relative;}#sk-container-id-5 div.sk-item {position: relative;z-index: 1;}#sk-container-id-5 div.sk-parallel {display: flex;align-items: stretch;justify-content: center;background-color: white;position: relative;}#sk-container-id-5 div.sk-item::before, #sk-container-id-5 div.sk-parallel-item::before {content: \"\";position: absolute;border-left: 1px solid gray;box-sizing: border-box;top: 0;bottom: 0;left: 50%;z-index: -1;}#sk-container-id-5 div.sk-parallel-item {display: flex;flex-direction: column;z-index: 1;position: relative;background-color: white;}#sk-container-id-5 div.sk-parallel-item:first-child::after {align-self: flex-end;width: 50%;}#sk-container-id-5 div.sk-parallel-item:last-child::after {align-self: flex-start;width: 50%;}#sk-container-id-5 div.sk-parallel-item:only-child::after {width: 0;}#sk-container-id-5 div.sk-dashed-wrapped {border: 1px dashed gray;margin: 0 0.4em 0.5em 0.4em;box-sizing: border-box;padding-bottom: 0.4em;background-color: white;}#sk-container-id-5 div.sk-label label {font-family: monospace;font-weight: bold;display: inline-block;line-height: 1.2em;}#sk-container-id-5 div.sk-label-container {text-align: center;}#sk-container-id-5 div.sk-container {/* jupyter's `normalize.less` sets `[hidden] { display: none; }` but bootstrap.min.css set `[hidden] { display: none !important; }` so we also need the `!important` here to be able to override the default hidden behavior on the sphinx rendered scikit-learn.org. See: https://github.com/scikit-learn/scikit-learn/issues/21755 */display: inline-block !important;position: relative;}#sk-container-id-5 div.sk-text-repr-fallback {display: none;}</style><div id=\"sk-container-id-5\" class=\"sk-top-container\"><div class=\"sk-text-repr-fallback\"><pre>Pipeline(steps=[(&#x27;smote&#x27;, SMOTE(random_state=42)),\n",
       "                (&#x27;svm&#x27;, SVC(kernel=&#x27;linear&#x27;, random_state=42))])</pre><b>In a Jupyter environment, please rerun this cell to show the HTML representation or trust the notebook. <br />On GitHub, the HTML representation is unable to render, please try loading this page with nbviewer.org.</b></div><div class=\"sk-container\" hidden><div class=\"sk-item sk-dashed-wrapped\"><div class=\"sk-label-container\"><div class=\"sk-label sk-toggleable\"><input class=\"sk-toggleable__control sk-hidden--visually\" id=\"sk-estimator-id-5\" type=\"checkbox\" ><label for=\"sk-estimator-id-5\" class=\"sk-toggleable__label sk-toggleable__label-arrow\">Pipeline</label><div class=\"sk-toggleable__content\"><pre>Pipeline(steps=[(&#x27;smote&#x27;, SMOTE(random_state=42)),\n",
       "                (&#x27;svm&#x27;, SVC(kernel=&#x27;linear&#x27;, random_state=42))])</pre></div></div></div><div class=\"sk-serial\"><div class=\"sk-item\"><div class=\"sk-estimator sk-toggleable\"><input class=\"sk-toggleable__control sk-hidden--visually\" id=\"sk-estimator-id-6\" type=\"checkbox\" ><label for=\"sk-estimator-id-6\" class=\"sk-toggleable__label sk-toggleable__label-arrow\">SMOTE</label><div class=\"sk-toggleable__content\"><pre>SMOTE(random_state=42)</pre></div></div></div><div class=\"sk-item\"><div class=\"sk-estimator sk-toggleable\"><input class=\"sk-toggleable__control sk-hidden--visually\" id=\"sk-estimator-id-7\" type=\"checkbox\" ><label for=\"sk-estimator-id-7\" class=\"sk-toggleable__label sk-toggleable__label-arrow\">SVC</label><div class=\"sk-toggleable__content\"><pre>SVC(kernel=&#x27;linear&#x27;, random_state=42)</pre></div></div></div></div></div></div></div>"
      ],
      "text/plain": [
       "Pipeline(steps=[('smote', SMOTE(random_state=42)),\n",
       "                ('svm', SVC(kernel='linear', random_state=42))])"
      ]
     },
     "execution_count": 63,
     "metadata": {},
     "output_type": "execute_result"
    }
   ],
   "source": [
    "pipeline.fit(X_resampled, y_resampled)"
   ]
  },
  {
   "cell_type": "code",
   "execution_count": 64,
   "id": "85d039cc-a6b4-4781-a266-4d2ea5296257",
   "metadata": {},
   "outputs": [],
   "source": [
    "X_train_pred = pipeline.predict(X_resampled)"
   ]
  },
  {
   "cell_type": "code",
   "execution_count": 65,
   "id": "b4b76d86-5289-44f0-b23f-7a1e1088b6e3",
   "metadata": {},
   "outputs": [
    {
     "name": "stdout",
     "output_type": "stream",
     "text": [
      "4516\n"
     ]
    }
   ],
   "source": [
    "print(len(y_resampled))"
   ]
  },
  {
   "cell_type": "code",
   "execution_count": 67,
   "id": "5bf78137-3939-4980-989c-36eb4371f2b4",
   "metadata": {},
   "outputs": [
    {
     "name": "stdout",
     "output_type": "stream",
     "text": [
      "[0 0 0 ... 1 1 1]\n"
     ]
    }
   ],
   "source": [
    "print(X_train_pred)"
   ]
  },
  {
   "cell_type": "code",
   "execution_count": 68,
   "id": "b29dbb71-1db7-4d56-b582-b8564f88a2e1",
   "metadata": {},
   "outputs": [],
   "source": [
    "# y_pred = (X_train_pred > 0.5).astype(int).ravel()\n",
    "\n",
    "# # Calculate accuracy\n",
    "# accuracy = accuracy_score(y_resampled, y_pred)"
   ]
  },
  {
   "cell_type": "code",
   "execution_count": 69,
   "id": "6771383c-50bd-41d0-a762-0ca1b13c31a0",
   "metadata": {},
   "outputs": [
    {
     "name": "stdout",
     "output_type": "stream",
     "text": [
      "0.8901682905225864\n"
     ]
    }
   ],
   "source": [
    "print(accuracy_score(y_resampled,X_train_pred))"
   ]
  },
  {
   "cell_type": "code",
   "execution_count": 70,
   "id": "5b7ea6bc-63d3-41be-a8cc-bb1c5aadfcb6",
   "metadata": {},
   "outputs": [
    {
     "name": "stdout",
     "output_type": "stream",
     "text": [
      "Classification Report:\n",
      "               precision    recall  f1-score   support\n",
      "\n",
      "           0       0.91      0.86      0.89      2258\n",
      "           1       0.87      0.92      0.89      2258\n",
      "\n",
      "    accuracy                           0.89      4516\n",
      "   macro avg       0.89      0.89      0.89      4516\n",
      "weighted avg       0.89      0.89      0.89      4516\n",
      "\n",
      "Confusion Matrix:\n",
      " [[1951  307]\n",
      " [ 189 2069]]\n"
     ]
    }
   ],
   "source": [
    "print(\"Classification Report:\\n\", classification_report(y_resampled,X_train_pred))\n",
    "print(\"Confusion Matrix:\\n\", confusion_matrix(y_resampled,X_train_pred))"
   ]
  },
  {
   "cell_type": "code",
   "execution_count": 71,
   "id": "5ce902a7-36cd-4df4-a4de-8887910f96f1",
   "metadata": {},
   "outputs": [
    {
     "name": "stdout",
     "output_type": "stream",
     "text": [
      "0.8712328767123287\n",
      "Classification Report:\n",
      "               precision    recall  f1-score   support\n",
      "\n",
      "           0       0.96      0.87      0.91       569\n",
      "           1       0.65      0.89      0.75       161\n",
      "\n",
      "    accuracy                           0.87       730\n",
      "   macro avg       0.81      0.88      0.83       730\n",
      "weighted avg       0.90      0.87      0.88       730\n",
      "\n",
      "Confusion Matrix:\n",
      " [[493  76]\n",
      " [ 18 143]]\n"
     ]
    }
   ],
   "source": [
    "y_pred = pipeline.predict(X_test)\n",
    "print(accuracy_score(y_test,y_pred))\n",
    "print(\"Classification Report:\\n\", classification_report(y_test, y_pred))\n",
    "print(\"Confusion Matrix:\\n\", confusion_matrix(y_test, y_pred))"
   ]
  },
  {
   "cell_type": "code",
   "execution_count": 72,
   "id": "9e2ce4fc-8eef-4adb-983d-aabf66fd9963",
   "metadata": {},
   "outputs": [
    {
     "data": {
      "text/plain": [
       "(array([  5,   6,  34,  53,  55,  57, 103, 110, 135, 137, 141, 146, 147,\n",
       "        148, 164, 170, 172, 178, 179, 184, 185, 189, 190, 191, 193, 195,\n",
       "        206, 207, 212, 217, 219, 220, 223, 224, 226, 228, 233, 234, 238,\n",
       "        240, 243, 244, 259, 261, 267, 278, 337, 377, 388, 389, 395, 424,\n",
       "        439, 440, 444, 448, 457, 458, 473, 477, 481, 482, 483, 492, 498,\n",
       "        500, 501, 508, 510, 512, 521, 526, 539, 546, 552, 562, 564, 567,\n",
       "        568, 570, 582, 583, 584, 585, 589, 590, 592, 598, 600, 613, 615,\n",
       "        625, 631, 702], dtype=int64),)"
      ]
     },
     "execution_count": 72,
     "metadata": {},
     "output_type": "execute_result"
    }
   ],
   "source": [
    "np.where(y_test!=y_pred)"
   ]
  },
  {
   "cell_type": "code",
   "execution_count": 73,
   "id": "45a33220",
   "metadata": {},
   "outputs": [],
   "source": [
    "from sklearn.tree import DecisionTreeClassifier"
   ]
  },
  {
   "cell_type": "code",
   "execution_count": 74,
   "id": "23727024",
   "metadata": {},
   "outputs": [],
   "source": [
    "class_weights = {0: 1, 1:2}\n",
    "model = DecisionTreeClassifier(criterion=\"entropy\",max_depth=3)"
   ]
  },
  {
   "cell_type": "code",
   "execution_count": 75,
   "id": "b10a3148",
   "metadata": {},
   "outputs": [
    {
     "data": {
      "text/html": [
       "<style>#sk-container-id-6 {color: black;background-color: white;}#sk-container-id-6 pre{padding: 0;}#sk-container-id-6 div.sk-toggleable {background-color: white;}#sk-container-id-6 label.sk-toggleable__label {cursor: pointer;display: block;width: 100%;margin-bottom: 0;padding: 0.3em;box-sizing: border-box;text-align: center;}#sk-container-id-6 label.sk-toggleable__label-arrow:before {content: \"▸\";float: left;margin-right: 0.25em;color: #696969;}#sk-container-id-6 label.sk-toggleable__label-arrow:hover:before {color: black;}#sk-container-id-6 div.sk-estimator:hover label.sk-toggleable__label-arrow:before {color: black;}#sk-container-id-6 div.sk-toggleable__content {max-height: 0;max-width: 0;overflow: hidden;text-align: left;background-color: #f0f8ff;}#sk-container-id-6 div.sk-toggleable__content pre {margin: 0.2em;color: black;border-radius: 0.25em;background-color: #f0f8ff;}#sk-container-id-6 input.sk-toggleable__control:checked~div.sk-toggleable__content {max-height: 200px;max-width: 100%;overflow: auto;}#sk-container-id-6 input.sk-toggleable__control:checked~label.sk-toggleable__label-arrow:before {content: \"▾\";}#sk-container-id-6 div.sk-estimator input.sk-toggleable__control:checked~label.sk-toggleable__label {background-color: #d4ebff;}#sk-container-id-6 div.sk-label input.sk-toggleable__control:checked~label.sk-toggleable__label {background-color: #d4ebff;}#sk-container-id-6 input.sk-hidden--visually {border: 0;clip: rect(1px 1px 1px 1px);clip: rect(1px, 1px, 1px, 1px);height: 1px;margin: -1px;overflow: hidden;padding: 0;position: absolute;width: 1px;}#sk-container-id-6 div.sk-estimator {font-family: monospace;background-color: #f0f8ff;border: 1px dotted black;border-radius: 0.25em;box-sizing: border-box;margin-bottom: 0.5em;}#sk-container-id-6 div.sk-estimator:hover {background-color: #d4ebff;}#sk-container-id-6 div.sk-parallel-item::after {content: \"\";width: 100%;border-bottom: 1px solid gray;flex-grow: 1;}#sk-container-id-6 div.sk-label:hover label.sk-toggleable__label {background-color: #d4ebff;}#sk-container-id-6 div.sk-serial::before {content: \"\";position: absolute;border-left: 1px solid gray;box-sizing: border-box;top: 0;bottom: 0;left: 50%;z-index: 0;}#sk-container-id-6 div.sk-serial {display: flex;flex-direction: column;align-items: center;background-color: white;padding-right: 0.2em;padding-left: 0.2em;position: relative;}#sk-container-id-6 div.sk-item {position: relative;z-index: 1;}#sk-container-id-6 div.sk-parallel {display: flex;align-items: stretch;justify-content: center;background-color: white;position: relative;}#sk-container-id-6 div.sk-item::before, #sk-container-id-6 div.sk-parallel-item::before {content: \"\";position: absolute;border-left: 1px solid gray;box-sizing: border-box;top: 0;bottom: 0;left: 50%;z-index: -1;}#sk-container-id-6 div.sk-parallel-item {display: flex;flex-direction: column;z-index: 1;position: relative;background-color: white;}#sk-container-id-6 div.sk-parallel-item:first-child::after {align-self: flex-end;width: 50%;}#sk-container-id-6 div.sk-parallel-item:last-child::after {align-self: flex-start;width: 50%;}#sk-container-id-6 div.sk-parallel-item:only-child::after {width: 0;}#sk-container-id-6 div.sk-dashed-wrapped {border: 1px dashed gray;margin: 0 0.4em 0.5em 0.4em;box-sizing: border-box;padding-bottom: 0.4em;background-color: white;}#sk-container-id-6 div.sk-label label {font-family: monospace;font-weight: bold;display: inline-block;line-height: 1.2em;}#sk-container-id-6 div.sk-label-container {text-align: center;}#sk-container-id-6 div.sk-container {/* jupyter's `normalize.less` sets `[hidden] { display: none; }` but bootstrap.min.css set `[hidden] { display: none !important; }` so we also need the `!important` here to be able to override the default hidden behavior on the sphinx rendered scikit-learn.org. See: https://github.com/scikit-learn/scikit-learn/issues/21755 */display: inline-block !important;position: relative;}#sk-container-id-6 div.sk-text-repr-fallback {display: none;}</style><div id=\"sk-container-id-6\" class=\"sk-top-container\"><div class=\"sk-text-repr-fallback\"><pre>DecisionTreeClassifier(criterion=&#x27;entropy&#x27;, max_depth=3)</pre><b>In a Jupyter environment, please rerun this cell to show the HTML representation or trust the notebook. <br />On GitHub, the HTML representation is unable to render, please try loading this page with nbviewer.org.</b></div><div class=\"sk-container\" hidden><div class=\"sk-item\"><div class=\"sk-estimator sk-toggleable\"><input class=\"sk-toggleable__control sk-hidden--visually\" id=\"sk-estimator-id-8\" type=\"checkbox\" checked><label for=\"sk-estimator-id-8\" class=\"sk-toggleable__label sk-toggleable__label-arrow\">DecisionTreeClassifier</label><div class=\"sk-toggleable__content\"><pre>DecisionTreeClassifier(criterion=&#x27;entropy&#x27;, max_depth=3)</pre></div></div></div></div></div>"
      ],
      "text/plain": [
       "DecisionTreeClassifier(criterion='entropy', max_depth=3)"
      ]
     },
     "execution_count": 75,
     "metadata": {},
     "output_type": "execute_result"
    }
   ],
   "source": [
    "model.fit(X_train,y_train)"
   ]
  },
  {
   "cell_type": "code",
   "execution_count": 76,
   "id": "a5cea3b0",
   "metadata": {},
   "outputs": [],
   "source": [
    "X_train_pred = model.predict(X_train)"
   ]
  },
  {
   "cell_type": "code",
   "execution_count": 77,
   "id": "fb6534c5",
   "metadata": {},
   "outputs": [],
   "source": [
    "X_test_pred = model.predict(X_test)"
   ]
  },
  {
   "cell_type": "code",
   "execution_count": 78,
   "id": "2eae3eb0",
   "metadata": {},
   "outputs": [],
   "source": [
    "from sklearn.metrics import accuracy_score, confusion_matrix, classification_report"
   ]
  },
  {
   "cell_type": "markdown",
   "id": "4e6f4e20",
   "metadata": {},
   "source": [
    "### Testing Accuracy on training data"
   ]
  },
  {
   "cell_type": "code",
   "execution_count": 79,
   "id": "c5d148d7",
   "metadata": {},
   "outputs": [
    {
     "name": "stdout",
     "output_type": "stream",
     "text": [
      "1.0\n"
     ]
    }
   ],
   "source": [
    "print(accuracy_score(y_train,X_train_pred))"
   ]
  },
  {
   "cell_type": "code",
   "execution_count": 80,
   "id": "ce60ed6c",
   "metadata": {},
   "outputs": [
    {
     "name": "stdout",
     "output_type": "stream",
     "text": [
      "[[2258    0]\n",
      " [   0  664]]\n"
     ]
    }
   ],
   "source": [
    "print(confusion_matrix(y_train,X_train_pred))"
   ]
  },
  {
   "cell_type": "code",
   "execution_count": 81,
   "id": "4107163b",
   "metadata": {},
   "outputs": [
    {
     "name": "stdout",
     "output_type": "stream",
     "text": [
      "              precision    recall  f1-score   support\n",
      "\n",
      "           0       1.00      1.00      1.00      2258\n",
      "           1       1.00      1.00      1.00       664\n",
      "\n",
      "    accuracy                           1.00      2922\n",
      "   macro avg       1.00      1.00      1.00      2922\n",
      "weighted avg       1.00      1.00      1.00      2922\n",
      "\n"
     ]
    }
   ],
   "source": [
    "print(classification_report(train_targets,X_train_pred))"
   ]
  },
  {
   "cell_type": "markdown",
   "id": "c3487b1e",
   "metadata": {},
   "source": [
    "### Testing Accuracy on testing data"
   ]
  },
  {
   "cell_type": "code",
   "execution_count": 82,
   "id": "b5622203",
   "metadata": {},
   "outputs": [
    {
     "name": "stdout",
     "output_type": "stream",
     "text": [
      "1.0\n"
     ]
    }
   ],
   "source": [
    "print(accuracy_score(y_test,X_test_pred))"
   ]
  },
  {
   "cell_type": "code",
   "execution_count": 83,
   "id": "0b0a1060",
   "metadata": {},
   "outputs": [
    {
     "name": "stdout",
     "output_type": "stream",
     "text": [
      "[[569   0]\n",
      " [  0 161]]\n"
     ]
    }
   ],
   "source": [
    "print(confusion_matrix(y_test,X_test_pred))"
   ]
  },
  {
   "cell_type": "code",
   "execution_count": 84,
   "id": "d538ba24",
   "metadata": {},
   "outputs": [
    {
     "name": "stdout",
     "output_type": "stream",
     "text": [
      "              precision    recall  f1-score   support\n",
      "\n",
      "           0       1.00      1.00      1.00       569\n",
      "           1       1.00      1.00      1.00       161\n",
      "\n",
      "    accuracy                           1.00       730\n",
      "   macro avg       1.00      1.00      1.00       730\n",
      "weighted avg       1.00      1.00      1.00       730\n",
      "\n"
     ]
    }
   ],
   "source": [
    "print(classification_report(y_test,X_test_pred))"
   ]
  },
  {
   "cell_type": "code",
   "execution_count": null,
   "id": "a4de5f31",
   "metadata": {},
   "outputs": [],
   "source": []
  },
  {
   "cell_type": "code",
   "execution_count": null,
   "id": "771df037",
   "metadata": {},
   "outputs": [],
   "source": []
  }
 ],
 "metadata": {
  "kernelspec": {
   "display_name": "Python 3 (ipykernel)",
   "language": "python",
   "name": "python3"
  },
  "language_info": {
   "codemirror_mode": {
    "name": "ipython",
    "version": 3
   },
   "file_extension": ".py",
   "mimetype": "text/x-python",
   "name": "python",
   "nbconvert_exporter": "python",
   "pygments_lexer": "ipython3",
   "version": "3.11.7"
  }
 },
 "nbformat": 4,
 "nbformat_minor": 5
}
